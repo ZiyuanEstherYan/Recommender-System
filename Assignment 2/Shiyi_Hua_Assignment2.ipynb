{
 "cells": [
  {
   "cell_type": "code",
   "execution_count": 132,
   "metadata": {},
   "outputs": [],
   "source": [
    "# Import required packages\n",
    "import json\n",
    "import gzip\n",
    "from collections import defaultdict\n",
    "import pandas as pd\n",
    "from datetime import datetime\n",
    "import matplotlib.pyplot as plt\n",
    "import numpy\n",
    "import urllib\n",
    "import scipy.optimize\n",
    "import random\n",
    "import nltk\n",
    "import string\n",
    "from nltk.stem.porter import *\n",
    "from sklearn import linear_model\n",
    "import ast\n",
    "from nltk.corpus import stopwords\n",
    "from nltk import FreqDist\n",
    "from sklearn.metrics import mean_squared_error\n",
    "from sklearn.preprocessing import OneHotEncoder\n",
    "from keras.utils import to_categorical\n",
    "from numpy import array\n",
    "from numpy import argmax\n",
    "from sklearn.preprocessing import LabelEncoder\n",
    "from textblob import TextBlob"
   ]
  },
  {
   "cell_type": "markdown",
   "metadata": {},
   "source": [
    "## Data Pre-Processing"
   ]
  },
  {
   "cell_type": "code",
   "execution_count": 2,
   "metadata": {},
   "outputs": [
    {
     "data": {
      "text/plain": [
       "3114353"
      ]
     },
     "execution_count": 2,
     "metadata": {},
     "output_type": "execute_result"
    }
   ],
   "source": [
    "# Read places data\n",
    "places_data = []\n",
    "with gzip.open('places.clean.json.gz') as f:\n",
    "    for l in f:\n",
    "        places_data.append(eval(l))\n",
    "        \n",
    "len(places_data)"
   ]
  },
  {
   "cell_type": "code",
   "execution_count": 3,
   "metadata": {},
   "outputs": [
    {
     "data": {
      "text/plain": [
       "48865"
      ]
     },
     "execution_count": 3,
     "metadata": {},
     "output_type": "execute_result"
    }
   ],
   "source": [
    "# Keep only California places with non-empty gps and price\n",
    "def placesFilter(dataset):\n",
    "    places_ca = []\n",
    "    for d in dataset:\n",
    "        if((d['gps'] != None) and (d['price'] != '') and (d['price'] != None)):\n",
    "            if ((d['gps'][0] >= 32.32) & (d['gps'][0] <= 42) & (d['gps'][1] >= -124.26) & (d['gps'][1] <= -114.8)):\n",
    "                places_ca.append(d)\n",
    "    return places_ca\n",
    "\n",
    "places_ca = placesFilter(places_data)\n",
    "\n",
    "len(places_ca)"
   ]
  },
  {
   "cell_type": "code",
   "execution_count": 4,
   "metadata": {},
   "outputs": [
    {
     "data": {
      "text/plain": [
       "4000000"
      ]
     },
     "execution_count": 4,
     "metadata": {},
     "output_type": "execute_result"
    }
   ],
   "source": [
    "# Read 4 million reviews data\n",
    "reviews_data = []\n",
    "with gzip.open(\"reviews.clean.json.gz\") as f:\n",
    "    head = [next(f) for x in range(4000000)]\n",
    "    for l in head:\n",
    "        reviews_data.append(eval(l))\n",
    "\n",
    "len(reviews_data)"
   ]
  },
  {
   "cell_type": "code",
   "execution_count": 5,
   "metadata": {},
   "outputs": [],
   "source": [
    "# Assign gps and price to each place ID\n",
    "placesGPS = defaultdict(list)\n",
    "placesPrice = defaultdict(list)\n",
    "for d in places_ca:\n",
    "    gID, gps, price = d['gPlusPlaceId'], d['gps'], d['price']\n",
    "    placesGPS[gID].append(gps)\n",
    "    placesPrice[gID].append(price)"
   ]
  },
  {
   "cell_type": "code",
   "execution_count": 6,
   "metadata": {},
   "outputs": [
    {
     "data": {
      "text/plain": [
       "48865"
      ]
     },
     "execution_count": 6,
     "metadata": {},
     "output_type": "execute_result"
    }
   ],
   "source": [
    "len(placesGPS)"
   ]
  },
  {
   "cell_type": "code",
   "execution_count": 7,
   "metadata": {},
   "outputs": [
    {
     "data": {
      "text/plain": [
       "48865"
      ]
     },
     "execution_count": 7,
     "metadata": {},
     "output_type": "execute_result"
    }
   ],
   "source": [
    "len(placesPrice)"
   ]
  },
  {
   "cell_type": "code",
   "execution_count": 8,
   "metadata": {},
   "outputs": [],
   "source": [
    "reviews_ca = []\n",
    "for d in reviews_data:\n",
    "    if d['gPlusPlaceId'] in placesGPS:\n",
    "        d['gps'] = placesGPS[d['gPlusPlaceId']]\n",
    "        d['price'] = placesPrice[d['gPlusPlaceId']]\n",
    "        reviews_ca.append(d)"
   ]
  },
  {
   "cell_type": "code",
   "execution_count": 9,
   "metadata": {},
   "outputs": [
    {
     "data": {
      "text/plain": [
       "125947"
      ]
     },
     "execution_count": 9,
     "metadata": {},
     "output_type": "execute_result"
    }
   ],
   "source": [
    "len(reviews_ca)"
   ]
  },
  {
   "cell_type": "code",
   "execution_count": 10,
   "metadata": {},
   "outputs": [],
   "source": [
    "reviewsCA = []\n",
    "for d in reviews_ca:\n",
    "    if (d['rating'] != None and d['rating'] != '' and d['categories'] != None and d['categories'] != '' and d['reviewerName'] != None and d['reviewerName'] != '' and d['reviewText'] != None and d['reviewText'] != ''):\n",
    "        reviewsCA.append(d)"
   ]
  },
  {
   "cell_type": "code",
   "execution_count": 11,
   "metadata": {},
   "outputs": [
    {
     "data": {
      "text/plain": [
       "76254"
      ]
     },
     "execution_count": 11,
     "metadata": {},
     "output_type": "execute_result"
    }
   ],
   "source": [
    "len(reviewsCA)"
   ]
  },
  {
   "cell_type": "code",
   "execution_count": 12,
   "metadata": {},
   "outputs": [
    {
     "data": {
      "text/plain": [
       "{'rating': 5.0,\n",
       " 'reviewerName': 'william spindler',\n",
       " 'reviewText': 'Long time favorite Mexican food, always consistent and great tasting.',\n",
       " 'categories': ['Mexican Restaurant'],\n",
       " 'gPlusPlaceId': '115827996910815192564',\n",
       " 'unixReviewTime': 1394669713,\n",
       " 'reviewTime': 'Mar 12, 2014',\n",
       " 'gPlusUserId': '100000032416892623125',\n",
       " 'gps': [[40.175064, -122.242574]],\n",
       " 'price': ['$$']}"
      ]
     },
     "execution_count": 12,
     "metadata": {},
     "output_type": "execute_result"
    }
   ],
   "source": [
    "reviewsCA[2]"
   ]
  },
  {
   "cell_type": "code",
   "execution_count": null,
   "metadata": {
    "jupyter": {
     "source_hidden": true
    }
   },
   "outputs": [],
   "source": [
    "json_str = json.dumps(reviewsCA) + \"\\n\"\n",
    "json_bytes = json_str.encode('utf-8')\n",
    "\n",
    "with gzip.GzipFile('reviewsCA.json.gz', 'w') as fout:\n",
    "    fout.write(json_bytes)"
   ]
  },
  {
   "cell_type": "code",
   "execution_count": null,
   "metadata": {
    "jupyter": {
     "source_hidden": true
    }
   },
   "outputs": [],
   "source": [
    "reviews_CA = []\n",
    "with gzip.open('reviewsCA.json.gz') as f:\n",
    "    for l in f:\n",
    "        reviews_CA.append(eval(l))"
   ]
  },
  {
   "cell_type": "code",
   "execution_count": null,
   "metadata": {
    "jupyter": {
     "source_hidden": true
    }
   },
   "outputs": [],
   "source": [
    "datCA = reviews_CA[0]"
   ]
  },
  {
   "cell_type": "code",
   "execution_count": null,
   "metadata": {
    "jupyter": {
     "source_hidden": true
    }
   },
   "outputs": [],
   "source": [
    "len(datCA)"
   ]
  },
  {
   "cell_type": "code",
   "execution_count": null,
   "metadata": {
    "jupyter": {
     "source_hidden": true
    }
   },
   "outputs": [],
   "source": [
    "datCA[-5]"
   ]
  },
  {
   "cell_type": "code",
   "execution_count": null,
   "metadata": {
    "jupyter": {
     "source_hidden": true
    }
   },
   "outputs": [],
   "source": [
    "catList = []\n",
    "for d in datCA:\n",
    "    for w in d['categories']:\n",
    "        if w not in catList:\n",
    "            catList.append(w)"
   ]
  },
  {
   "cell_type": "code",
   "execution_count": null,
   "metadata": {
    "jupyter": {
     "source_hidden": true
    }
   },
   "outputs": [],
   "source": [
    "catList[0:5]"
   ]
  },
  {
   "cell_type": "code",
   "execution_count": null,
   "metadata": {
    "jupyter": {
     "source_hidden": true
    }
   },
   "outputs": [],
   "source": [
    "numRevCat = defaultdict(int)\n",
    "for c in catList:\n",
    "    for d in datCA:\n",
    "        if c in d['categories']:\n",
    "            numRevCat[c] += 1"
   ]
  },
  {
   "cell_type": "code",
   "execution_count": null,
   "metadata": {
    "jupyter": {
     "source_hidden": true
    }
   },
   "outputs": [],
   "source": [
    "rankCat = []\n",
    "for d in numRevCat:\n",
    "    item = (numRevCat[d], d)\n",
    "    rankCat.append(item)\n",
    "top100 = sorted(rankCat, reverse = True)[0:100]"
   ]
  },
  {
   "cell_type": "code",
   "execution_count": null,
   "metadata": {
    "jupyter": {
     "source_hidden": true
    }
   },
   "outputs": [],
   "source": [
    "top100"
   ]
  },
  {
   "cell_type": "code",
   "execution_count": null,
   "metadata": {
    "jupyter": {
     "source_hidden": true
    }
   },
   "outputs": [],
   "source": [
    "dfCA = pd.DataFrame.from_dict(reviewsCA)"
   ]
  },
  {
   "cell_type": "code",
   "execution_count": null,
   "metadata": {
    "jupyter": {
     "source_hidden": true
    }
   },
   "outputs": [],
   "source": [
    "dfCA"
   ]
  },
  {
   "cell_type": "code",
   "execution_count": null,
   "metadata": {
    "jupyter": {
     "source_hidden": true
    }
   },
   "outputs": [],
   "source": [
    "a = datetime.fromtimestamp(1394826388)"
   ]
  },
  {
   "cell_type": "code",
   "execution_count": null,
   "metadata": {
    "jupyter": {
     "source_hidden": true
    }
   },
   "outputs": [],
   "source": [
    "datetime.utcfromtimestamp(1394826388).strftime('%Y-%m-%d %H:%M:%S')[5:7]"
   ]
  },
  {
   "cell_type": "code",
   "execution_count": null,
   "metadata": {
    "jupyter": {
     "source_hidden": true
    }
   },
   "outputs": [],
   "source": [
    "datetime.utcfromtimestamp(1394826388).strftime('%A')"
   ]
  },
  {
   "cell_type": "code",
   "execution_count": null,
   "metadata": {
    "jupyter": {
     "source_hidden": true
    }
   },
   "outputs": [],
   "source": [
    "dfClean = dfCA.assign(\n",
    "    Hour = lambda dataframe: dataframe['unixReviewTime'].map(lambda unixReviewTime: datetime.utcfromtimestamp(unixReviewTime).strftime('%Y-%m-%d %H:%M:%S')[11:13]) \n",
    ").assign(\n",
    "    Year = lambda dataframe: dataframe['unixReviewTime'].map(lambda unixReviewTime: datetime.utcfromtimestamp(unixReviewTime).strftime('%Y-%m-%d %H:%M:%S')[0:4])\n",
    ").assign(\n",
    "    Month = lambda dataframe: dataframe['unixReviewTime'].map(lambda unixReviewTime: datetime.utcfromtimestamp(unixReviewTime).strftime('%Y-%m-%d %H:%M:%S')[5:7])\n",
    ").assign(\n",
    "    Weekday = lambda dataframe: dataframe['unixReviewTime'].map(lambda unixReviewTime: datetime.utcfromtimestamp(unixReviewTime).strftime('%A'))\n",
    ")"
   ]
  },
  {
   "cell_type": "code",
   "execution_count": null,
   "metadata": {
    "jupyter": {
     "source_hidden": true
    }
   },
   "outputs": [],
   "source": [
    "dfClean.isnull().values.any()"
   ]
  },
  {
   "cell_type": "code",
   "execution_count": null,
   "metadata": {
    "jupyter": {
     "source_hidden": true
    }
   },
   "outputs": [],
   "source": [
    "dfClean.to_csv('dfClean.csv')"
   ]
  },
  {
   "cell_type": "markdown",
   "metadata": {},
   "source": [
    "## Text & Prediction"
   ]
  },
  {
   "cell_type": "code",
   "execution_count": null,
   "metadata": {},
   "outputs": [],
   "source": [
    "reviewsCA[0]"
   ]
  },
  {
   "cell_type": "code",
   "execution_count": 47,
   "metadata": {},
   "outputs": [
    {
     "name": "stderr",
     "output_type": "stream",
     "text": [
      "[nltk_data] Downloading package stopwords to /home/jovyan/nltk_data...\n",
      "[nltk_data]   Package stopwords is already up-to-date!\n"
     ]
    },
    {
     "data": {
      "text/plain": [
       "True"
      ]
     },
     "execution_count": 47,
     "metadata": {},
     "output_type": "execute_result"
    }
   ],
   "source": [
    "nltk.download('stopwords')"
   ]
  },
  {
   "cell_type": "code",
   "execution_count": 48,
   "metadata": {},
   "outputs": [],
   "source": [
    "stop_words = stopwords.words('english')"
   ]
  },
  {
   "cell_type": "code",
   "execution_count": 49,
   "metadata": {},
   "outputs": [
    {
     "data": {
      "text/plain": [
       "179"
      ]
     },
     "execution_count": 49,
     "metadata": {},
     "output_type": "execute_result"
    }
   ],
   "source": [
    "len(stop_words)"
   ]
  },
  {
   "cell_type": "code",
   "execution_count": 50,
   "metadata": {},
   "outputs": [],
   "source": [
    "wordCount = defaultdict(int)\n",
    "totalWords = 0\n",
    "punct = string.punctuation\n",
    "#stemmer = PorterStemmer()\n",
    "\n",
    "for d in reviewsCA:\n",
    "    t = d['reviewText']\n",
    "    t = t.lower() # lowercase string\n",
    "    t = [c for c in t if not (c in punct)] # non-punct characters\n",
    "    t = ''.join(t) # convert back to string\n",
    "    words = t.strip().split() # tokenizes\n",
    "    for w in words:\n",
    "        if w not in stop_words:\n",
    "            #w = stemmer.stem(w)\n",
    "            totalWords += 1\n",
    "            wordCount[w] += 1"
   ]
  },
  {
   "cell_type": "code",
   "execution_count": 51,
   "metadata": {},
   "outputs": [
    {
     "data": {
      "text/plain": [
       "1623179"
      ]
     },
     "execution_count": 51,
     "metadata": {},
     "output_type": "execute_result"
    }
   ],
   "source": [
    "totalWords"
   ]
  },
  {
   "cell_type": "code",
   "execution_count": 52,
   "metadata": {},
   "outputs": [
    {
     "data": {
      "text/plain": [
       "60413"
      ]
     },
     "execution_count": 52,
     "metadata": {},
     "output_type": "execute_result"
    }
   ],
   "source": [
    "len(wordCount)"
   ]
  },
  {
   "cell_type": "code",
   "execution_count": null,
   "metadata": {},
   "outputs": [],
   "source": [
    "wordCount"
   ]
  },
  {
   "cell_type": "code",
   "execution_count": 53,
   "metadata": {},
   "outputs": [],
   "source": [
    "counts = [(wordCount[w] , w) for w in wordCount]"
   ]
  },
  {
   "cell_type": "code",
   "execution_count": 54,
   "metadata": {
    "collapsed": true,
    "jupyter": {
     "outputs_hidden": true
    }
   },
   "outputs": [
    {
     "data": {
      "text/plain": [
       "[(32377, 'food'),\n",
       " (23508, 'good'),\n",
       " (23220, 'great'),\n",
       " (20894, 'place'),\n",
       " (18005, 'service'),\n",
       " (10467, 'like'),\n",
       " (10051, 'best'),\n",
       " (9940, 'go'),\n",
       " (9939, 'get'),\n",
       " (9354, 'one'),\n",
       " (8617, 'time'),\n",
       " (7938, 'love'),\n",
       " (7594, 'really'),\n",
       " (7285, 'back'),\n",
       " (6937, 'always'),\n",
       " (6609, 'would'),\n",
       " (6562, 'nice'),\n",
       " (6376, 'restaurant'),\n",
       " (6261, 'dont'),\n",
       " (5970, 'pizza'),\n",
       " (5707, 'order'),\n",
       " (5493, 'staff'),\n",
       " (5491, 'friendly'),\n",
       " (5102, 'even'),\n",
       " (5011, 'people'),\n",
       " (5007, 'delicious'),\n",
       " (4943, 'also'),\n",
       " (4900, 'never'),\n",
       " (4756, 'excellent'),\n",
       " (4682, 'ive'),\n",
       " (4651, 'well'),\n",
       " (4409, 'got'),\n",
       " (4394, 'ever'),\n",
       " (4391, 'us'),\n",
       " (4351, 'chicken'),\n",
       " (4267, 'eat'),\n",
       " (4264, 'amazing'),\n",
       " (4162, 'better'),\n",
       " (4158, 'little'),\n",
       " (4027, 'try'),\n",
       " (4003, 'store'),\n",
       " (3939, 'come'),\n",
       " (3849, 'went'),\n",
       " (3776, 'wait'),\n",
       " (3735, 'menu'),\n",
       " (3643, 'make'),\n",
       " (3636, 'fresh'),\n",
       " (3597, 'im'),\n",
       " (3596, 'bad'),\n",
       " (3575, 'pretty'),\n",
       " (3547, 'going'),\n",
       " (3509, 'awesome'),\n",
       " (3493, 'much'),\n",
       " (3375, 'ordered'),\n",
       " (3361, 'experience'),\n",
       " (3299, 'price'),\n",
       " (3292, 'way'),\n",
       " (3254, 'bar'),\n",
       " (3242, 'recommend'),\n",
       " (3152, 'didnt'),\n",
       " (3151, 'atmosphere'),\n",
       " (3143, 'know'),\n",
       " (3128, 'first'),\n",
       " (3116, 'could'),\n",
       " (3102, 'want'),\n",
       " (3045, 'definitely'),\n",
       " (3037, 'customer'),\n",
       " (3015, 'lunch'),\n",
       " (3007, 'favorite'),\n",
       " (2998, 'prices'),\n",
       " (2960, 'came'),\n",
       " (2945, 'coffee'),\n",
       " (2886, 'take'),\n",
       " (2857, 'said'),\n",
       " (2816, 'sushi'),\n",
       " (2798, 'made'),\n",
       " (2797, 'location'),\n",
       " (2793, 'worth'),\n",
       " (2769, 'area'),\n",
       " (2750, 'quality'),\n",
       " (2715, 'dinner'),\n",
       " (2714, 'every'),\n",
       " (2702, 'still'),\n",
       " (2679, 'everything'),\n",
       " (2644, 'long'),\n",
       " (2638, 'times'),\n",
       " (2616, 'right'),\n",
       " (2611, 'drinks'),\n",
       " (2604, 'around'),\n",
       " (2586, 'bit'),\n",
       " (2582, 'two'),\n",
       " (2566, 'day'),\n",
       " (2550, 'table'),\n",
       " (2514, 'minutes'),\n",
       " (2505, 'meal'),\n",
       " (2504, 'though'),\n",
       " (2481, 'night'),\n",
       " (2462, 'new'),\n",
       " (2451, 'small'),\n",
       " (2422, 'say'),\n",
       " (2404, 'tasty'),\n",
       " (2392, 'burger'),\n",
       " (2381, 'find'),\n",
       " (2339, 'beer'),\n",
       " (2262, 'cant'),\n",
       " (2258, '2'),\n",
       " (2244, 'salad'),\n",
       " (2234, 'told'),\n",
       " (2216, 'many'),\n",
       " (2214, 'think'),\n",
       " (2214, 'sure'),\n",
       " (2214, 'fast'),\n",
       " (2211, 'took'),\n",
       " (2198, 'family'),\n",
       " (2190, 'asked'),\n",
       " (2182, 'selection'),\n",
       " (2161, 'since'),\n",
       " (2136, 'give'),\n",
       " (2131, 'cheese'),\n",
       " (2097, 'years'),\n",
       " (2072, 'sauce'),\n",
       " (2063, 'lot'),\n",
       " (2042, 'taste'),\n",
       " (2041, 'something'),\n",
       " (2035, 'manager'),\n",
       " (2027, 'happy'),\n",
       " (2020, 'hour'),\n",
       " (1993, 'friends'),\n",
       " (1965, 'home'),\n",
       " (1964, 'super'),\n",
       " (1936, 'breakfast'),\n",
       " (1924, 'fish'),\n",
       " (1893, 'fries'),\n",
       " (1880, 'big'),\n",
       " (1862, 'need'),\n",
       " (1862, 'another'),\n",
       " (1852, 'see'),\n",
       " (1852, 'next'),\n",
       " (1846, 'ok'),\n",
       " (1844, 'places'),\n",
       " (1820, 'work'),\n",
       " (1808, 'youre'),\n",
       " (1806, 'nothing'),\n",
       " (1794, 'tried'),\n",
       " (1779, 'phone'),\n",
       " (1774, '3'),\n",
       " (1771, 'mexican'),\n",
       " (1771, 'ask'),\n",
       " (1769, 'fun'),\n",
       " (1735, 'dishes'),\n",
       " (1726, 'last'),\n",
       " (1723, '5'),\n",
       " (1718, 'looking'),\n",
       " (1717, 'sandwich'),\n",
       " (1707, 'hot'),\n",
       " (1704, 'wasnt'),\n",
       " (1698, 'special'),\n",
       " (1696, 'spot'),\n",
       " (1686, 'busy'),\n",
       " (1681, 'drink'),\n",
       " (1673, 'thing'),\n",
       " (1655, 'meat'),\n",
       " (1655, 'feel'),\n",
       " (1596, 'rude'),\n",
       " (1594, 'clean'),\n",
       " (1591, 'old'),\n",
       " (1582, 'town'),\n",
       " (1573, 'line'),\n",
       " (1571, 'decent'),\n",
       " (1564, 'bread'),\n",
       " (1557, 'wine'),\n",
       " (1553, 'away'),\n",
       " (1544, 'rice'),\n",
       " (1537, 'coming'),\n",
       " (1536, 'decor'),\n",
       " (1534, '10'),\n",
       " (1531, 'enjoy'),\n",
       " (1507, 'portions'),\n",
       " (1506, 'side'),\n",
       " (1502, 'la'),\n",
       " (1498, 'enough'),\n",
       " (1494, 'thats'),\n",
       " (1493, 'anything'),\n",
       " (1485, 'open'),\n",
       " (1481, 'wonderful'),\n",
       " (1476, 'large'),\n",
       " (1470, 'else'),\n",
       " (1468, 'eating'),\n",
       " (1467, 'usually'),\n",
       " (1464, 'worst'),\n",
       " (1437, 'fantastic'),\n",
       " (1437, 'expensive'),\n",
       " (1433, 'san'),\n",
       " (1433, 'perfect'),\n",
       " (1428, 'burgers'),\n",
       " (1409, 'money'),\n",
       " (1407, 'must'),\n",
       " (1403, 'soup'),\n",
       " (1398, 'highly'),\n",
       " (1398, 'different'),\n",
       " (1396, 'visit'),\n",
       " (1395, 'steak'),\n",
       " (1382, 'horrible'),\n",
       " (1382, 'employees'),\n",
       " (1379, 'found'),\n",
       " (1370, 'top'),\n",
       " (1363, 'fried'),\n",
       " (1358, 'free'),\n",
       " (1348, 'restaurants'),\n",
       " (1343, 'check'),\n",
       " (1339, 'wanted'),\n",
       " (1335, 'quick'),\n",
       " (1334, 'thai'),\n",
       " (1331, 'business'),\n",
       " (1330, 'quite'),\n",
       " (1330, 'left'),\n",
       " (1324, 'called'),\n",
       " (1323, 'especially'),\n",
       " (1322, 'however'),\n",
       " (1310, 'flavor'),\n",
       " (1308, 'customers'),\n",
       " (1307, 'loved'),\n",
       " (1306, 'high'),\n",
       " (1303, 'overall'),\n",
       " (1303, 'dish'),\n",
       " (1299, 'far'),\n",
       " (1298, 'huge'),\n",
       " (1290, 'outside'),\n",
       " (1288, 'full'),\n",
       " (1286, 'slow'),\n",
       " (1281, 'cream'),\n",
       " (1266, 'cheap'),\n",
       " (1265, 'wrong'),\n",
       " (1265, 'served'),\n",
       " (1264, 'waitress'),\n",
       " (1262, 'used'),\n",
       " (1262, 'help'),\n",
       " (1261, 'put'),\n",
       " (1253, 'parking'),\n",
       " (1251, 'everyone'),\n",
       " (1243, 'inside'),\n",
       " (1238, 'look'),\n",
       " (1230, 'wont'),\n",
       " (1225, 'beef'),\n",
       " (1223, 'kind'),\n",
       " (1222, 'things'),\n",
       " (1210, 'actually'),\n",
       " (1205, 'server'),\n",
       " (1203, 'hard'),\n",
       " (1203, 'cool'),\n",
       " (1202, 'without'),\n",
       " (1199, 'least'),\n",
       " (1192, 'call'),\n",
       " (1190, 'wife'),\n",
       " (1190, 'helpful'),\n",
       " (1188, '4'),\n",
       " (1183, 'items'),\n",
       " (1180, 'cold'),\n",
       " (1176, 'italian'),\n",
       " (1175, 'tasted'),\n",
       " (1173, 'tacos'),\n",
       " (1167, 'probably'),\n",
       " (1167, 'id'),\n",
       " (1166, 'waiting'),\n",
       " (1165, 'owner'),\n",
       " (1159, 'pay'),\n",
       " (1146, 'spicy'),\n",
       " (1146, 'chinese'),\n",
       " (1139, 'ice'),\n",
       " (1130, 'almost'),\n",
       " (1129, 'cooked'),\n",
       " (1126, 'disappointed'),\n",
       " (1125, 'authentic'),\n",
       " (1122, '1'),\n",
       " (1121, 'shop'),\n",
       " (1120, 'person'),\n",
       " (1120, 'dining'),\n",
       " (1110, 'local'),\n",
       " (1107, 'sweet'),\n",
       " (1104, 'waiter'),\n",
       " (1103, 'half'),\n",
       " (1099, '20'),\n",
       " (1097, 'buy'),\n",
       " (1096, 'burrito'),\n",
       " (1095, 'real'),\n",
       " (1092, 'terrible'),\n",
       " (1092, 'makes'),\n",
       " (1091, 'pork'),\n",
       " (1091, 'getting'),\n",
       " (1089, 'music'),\n",
       " (1088, 'gave'),\n",
       " (1085, 'tables'),\n",
       " (1085, 'live'),\n",
       " (1067, 'use'),\n",
       " (1058, 'guy'),\n",
       " (1057, 'seating'),\n",
       " (1055, 'hours'),\n",
       " (1053, 'stop'),\n",
       " (1048, 'style'),\n",
       " (1033, 'sit'),\n",
       " (1031, 'shrimp'),\n",
       " (1028, 'tell'),\n",
       " (1021, 'reasonable'),\n",
       " (1020, 'whole'),\n",
       " (1020, 'drive'),\n",
       " (1017, 'house'),\n",
       " (1017, 'bring'),\n",
       " (1016, 'street'),\n",
       " (1009, 'care'),\n",
       " (1006, 'expect'),\n",
       " (1005, 'absolutely'),\n",
       " (1004, 'week'),\n",
       " (1003, 'room'),\n",
       " (999, 'city'),\n",
       " (995, 'less'),\n",
       " (987, 'tea'),\n",
       " (985, 'friend'),\n",
       " (979, 'sandwiches'),\n",
       " (977, 'close'),\n",
       " (973, 'lots'),\n",
       " (968, 'thought'),\n",
       " (966, 'couple'),\n",
       " (965, 'doesnt'),\n",
       " (963, 'pricey'),\n",
       " (963, 'ill'),\n",
       " (960, 'let'),\n",
       " (959, 'poor'),\n",
       " (956, 'keep'),\n",
       " (954, 'someone'),\n",
       " (954, 'isnt'),\n",
       " (947, 'plate'),\n",
       " (946, 'done'),\n",
       " (944, 'often'),\n",
       " (937, 'enjoyed'),\n",
       " (932, 'return'),\n",
       " (930, 'reviews'),\n",
       " (926, 'rolls'),\n",
       " (923, 'door'),\n",
       " (921, 'maybe'),\n",
       " (919, 'trying'),\n",
       " (917, 'name'),\n",
       " (917, 'front'),\n",
       " (916, 'chips'),\n",
       " (912, 'bbq'),\n",
       " (909, 'theres'),\n",
       " (898, 'extra'),\n",
       " (891, 'crowded'),\n",
       " (889, 'view'),\n",
       " (889, 'priced'),\n",
       " (887, 'kids'),\n",
       " (885, 'walked'),\n",
       " (881, 'anyone'),\n",
       " (879, 'garlic'),\n",
       " (878, 'average'),\n",
       " (870, 'water'),\n",
       " (870, 'options'),\n",
       " (866, 'serve'),\n",
       " (859, 'waited'),\n",
       " (857, 'party'),\n",
       " (855, 'extremely'),\n",
       " (854, 'guys'),\n",
       " (854, 'finally'),\n",
       " (847, 'leave'),\n",
       " (846, 'stuff'),\n",
       " (844, 'late'),\n",
       " (841, 'value'),\n",
       " (838, 'french'),\n",
       " (834, 'yummy'),\n",
       " (828, '15'),\n",
       " (827, 'later'),\n",
       " (826, 'three'),\n",
       " (825, 'stars'),\n",
       " (825, 'problem'),\n",
       " (822, 'couldnt'),\n",
       " (821, 'part'),\n",
       " (816, 'looked'),\n",
       " (814, 'sometimes'),\n",
       " (811, 'walk'),\n",
       " (809, 'salsa'),\n",
       " (807, 'attentive'),\n",
       " (801, 'variety'),\n",
       " (801, 'brunch'),\n",
       " (800, 'may'),\n",
       " (799, 'seems'),\n",
       " (796, 'counter'),\n",
       " (794, 'seafood'),\n",
       " (791, 'wouldnt'),\n",
       " (791, 'instead'),\n",
       " (791, 'indian'),\n",
       " (787, 'either'),\n",
       " (786, 'days'),\n",
       " (785, 'several'),\n",
       " (784, 'although'),\n",
       " (782, 'plus'),\n",
       " (779, 'working'),\n",
       " (779, 'taco'),\n",
       " (779, 'fine'),\n",
       " (778, 'roll'),\n",
       " (777, 'dessert'),\n",
       " (772, 'theyre'),\n",
       " (771, 'review'),\n",
       " (770, 'comes'),\n",
       " (769, 'bay'),\n",
       " (767, 'wish'),\n",
       " (766, 'yet'),\n",
       " (766, 'prepared'),\n",
       " (766, 'ate'),\n",
       " (765, 'deal'),\n",
       " (765, 'brought'),\n",
       " (764, 'delivery'),\n",
       " (762, 'end'),\n",
       " (759, 'okay'),\n",
       " (759, 'beers'),\n",
       " (745, 'job'),\n",
       " (744, 'seated'),\n",
       " (743, 'chocolate'),\n",
       " (740, '30'),\n",
       " (738, 'youll'),\n",
       " (735, 'group'),\n",
       " (734, 'sf'),\n",
       " (734, 'might'),\n",
       " (730, 'ambiance'),\n",
       " (729, 'year'),\n",
       " (729, 'buffet'),\n",
       " (728, 'ingredients'),\n",
       " (725, 'decided'),\n",
       " (724, 'pasta'),\n",
       " (716, 'warm'),\n",
       " (711, 'flavors'),\n",
       " (709, 'pick'),\n",
       " (709, 'patio'),\n",
       " (703, 'oh'),\n",
       " (696, 'cafe'),\n",
       " (695, 'needed'),\n",
       " (695, 'gets'),\n",
       " (692, 'second'),\n",
       " (690, 'making'),\n",
       " (688, 'needs'),\n",
       " (687, 'ago'),\n",
       " (685, 'servers'),\n",
       " (685, 'regular'),\n",
       " (684, 'reason'),\n",
       " (683, 'eaten'),\n",
       " (681, 'today'),\n",
       " (681, 'overpriced'),\n",
       " (680, 'recommended'),\n",
       " (676, 'twice'),\n",
       " (670, 'orders'),\n",
       " (669, 'starbucks'),\n",
       " (668, 'crab'),\n",
       " (666, 'size'),\n",
       " (663, 'seemed'),\n",
       " (663, 'ready'),\n",
       " (662, 'yes'),\n",
       " (661, 'neighborhood'),\n",
       " (659, 'wings'),\n",
       " (658, 'choice'),\n",
       " (656, 'list'),\n",
       " (655, 'course'),\n",
       " (653, 'thank'),\n",
       " (653, 'kitchen'),\n",
       " (652, 'de'),\n",
       " (652, 'bacon'),\n",
       " (648, 'francisco'),\n",
       " (645, 'seem'),\n",
       " (645, 'date'),\n",
       " (644, 'early'),\n",
       " (643, 'easy'),\n",
       " (641, 'car'),\n",
       " (634, 'loud'),\n",
       " (632, 'point'),\n",
       " (631, 'felt'),\n",
       " (626, 'liked'),\n",
       " (624, 'looks'),\n",
       " (623, 'lady'),\n",
       " (622, 'n'),\n",
       " (622, 'chef'),\n",
       " (620, 'red'),\n",
       " (620, 'card'),\n",
       " (617, 'thanks'),\n",
       " (617, 'sat'),\n",
       " (616, 'vegas'),\n",
       " (616, 'u'),\n",
       " (616, 'across'),\n",
       " (614, 'husband'),\n",
       " (613, 'near'),\n",
       " (610, 'fact'),\n",
       " (610, 'curry'),\n",
       " (607, 'rather'),\n",
       " (607, 'bill'),\n",
       " (606, '6'),\n",
       " (605, 'unique'),\n",
       " (603, 'show'),\n",
       " (602, 'simple'),\n",
       " (601, 'california'),\n",
       " (600, 'tip'),\n",
       " (599, 'soon'),\n",
       " (599, 'charge'),\n",
       " (598, 'sitting'),\n",
       " (597, 'beautiful'),\n",
       " (594, 'offer'),\n",
       " (594, 'dry'),\n",
       " (592, 'ordering'),\n",
       " (591, 'quickly'),\n",
       " (591, 'packed'),\n",
       " (591, 'believe'),\n",
       " (590, 'man'),\n",
       " (589, 'guess'),\n",
       " (588, 'world'),\n",
       " (586, 'ramen'),\n",
       " (586, 'gone'),\n",
       " (585, 'sunday'),\n",
       " (585, 'dirty'),\n",
       " (581, 'saw'),\n",
       " (581, 'attitude'),\n",
       " (580, 'already'),\n",
       " (579, 'birthday'),\n",
       " (578, 'number'),\n",
       " (576, 'watch'),\n",
       " (576, 'arrived'),\n",
       " (576, 'amount'),\n",
       " (574, 'life'),\n",
       " (572, 'able'),\n",
       " (571, 'vegetarian'),\n",
       " (571, 'crust'),\n",
       " (567, 'beans'),\n",
       " (565, 'hungry'),\n",
       " (564, 'outstanding'),\n",
       " (562, 'morning'),\n",
       " (561, 'grilled'),\n",
       " (559, 'plates'),\n",
       " (558, 'tastes'),\n",
       " (558, 'closed'),\n",
       " (557, 'fan'),\n",
       " (555, 'green'),\n",
       " (555, 'girl'),\n",
       " (555, 'die'),\n",
       " (554, 'pizzas'),\n",
       " (553, 'please'),\n",
       " (552, 'given'),\n",
       " (552, 'egg'),\n",
       " (550, 'plenty'),\n",
       " (550, 'noodles'),\n",
       " (549, 'run'),\n",
       " (549, 'remember'),\n",
       " (545, 'interesting'),\n",
       " (545, 'evening'),\n",
       " (544, 'eggs'),\n",
       " (543, 'totally'),\n",
       " (542, 'star'),\n",
       " (540, 'salmon'),\n",
       " (540, 'bland'),\n",
       " (534, 'seen'),\n",
       " (534, 'ribs'),\n",
       " (533, 'meals'),\n",
       " (531, 'short'),\n",
       " (531, 'paid'),\n",
       " (530, 'started'),\n",
       " (529, 'wow'),\n",
       " (527, 'change'),\n",
       " (526, 'main'),\n",
       " (521, 'space'),\n",
       " (521, 'bowl'),\n",
       " (520, 'stay'),\n",
       " (519, 'choices'),\n",
       " (519, 'available'),\n",
       " (518, 'sucks'),\n",
       " (517, 'havent'),\n",
       " (516, 'pleasant'),\n",
       " (516, 'miss'),\n",
       " (515, 'healthy'),\n",
       " (513, 'hands'),\n",
       " (512, 'mind'),\n",
       " (512, 'beach'),\n",
       " (510, 'start'),\n",
       " (510, 'cash'),\n",
       " (509, 'shopping'),\n",
       " (509, '12'),\n",
       " (508, 'el'),\n",
       " (508, 'burritos'),\n",
       " (507, 'salads'),\n",
       " (507, 'perfectly'),\n",
       " (506, 'impressed'),\n",
       " (505, 'others'),\n",
       " (505, 'foods'),\n",
       " (505, 'etc'),\n",
       " (504, 'grab'),\n",
       " (504, 'behind'),\n",
       " (503, 'weekend'),\n",
       " (503, 'saturday'),\n",
       " (502, 'min'),\n",
       " (500, 'cocktails'),\n",
       " (500, 'appetizer'),\n",
       " (499, 'japanese'),\n",
       " (499, 'cake'),\n",
       " (498, 'specials'),\n",
       " (497, 'taking'),\n",
       " (495, 'white'),\n",
       " (495, 'treat'),\n",
       " (495, 'portion'),\n",
       " (494, 'avoid'),\n",
       " (492, 'received'),\n",
       " (492, 'completely'),\n",
       " (490, 'low'),\n",
       " (488, 'employee'),\n",
       " (488, 'cost'),\n",
       " (485, 'cook'),\n",
       " (485, 'bite'),\n",
       " (482, 'expected'),\n",
       " (479, 'mean'),\n",
       " (477, 'past'),\n",
       " (476, 'management'),\n",
       " (475, 'appetizers'),\n",
       " (474, 'rest'),\n",
       " (473, 'tasting'),\n",
       " (472, 'understand'),\n",
       " (472, 'anywhere'),\n",
       " (471, 'lamb'),\n",
       " (470, 'empty'),\n",
       " (468, 'reservation'),\n",
       " (465, 'hand'),\n",
       " (464, 'simply'),\n",
       " (463, 'mediocre'),\n",
       " (463, 'joint'),\n",
       " (461, 'bought'),\n",
       " (461, 'black'),\n",
       " (460, 'downtown'),\n",
       " (458, 'trip'),\n",
       " (458, 'pho'),\n",
       " (456, 'potato'),\n",
       " (454, 'talk'),\n",
       " (453, 'online'),\n",
       " (453, 'incredible'),\n",
       " (453, 'cup'),\n",
       " (452, 'outdoor'),\n",
       " (452, 'add'),\n",
       " (449, 'saying'),\n",
       " (449, '8'),\n",
       " (448, 'fair'),\n",
       " (447, 'spend'),\n",
       " (447, 'glass'),\n",
       " (446, 'surprised'),\n",
       " (446, 'says'),\n",
       " (444, 'set'),\n",
       " (443, 'friday'),\n",
       " (439, 'stopped'),\n",
       " (439, 'sorry'),\n",
       " (438, 'kept'),\n",
       " (438, 'game'),\n",
       " (438, 'along'),\n",
       " (437, 'cuisine'),\n",
       " (435, 'solid'),\n",
       " (435, 'serving'),\n",
       " (435, 'light'),\n",
       " (432, 'item'),\n",
       " (430, 'walking'),\n",
       " (430, 'park'),\n",
       " (428, 'walmart'),\n",
       " (428, 'stores'),\n",
       " (428, 'helped'),\n",
       " (427, 'opened'),\n",
       " (427, 'casual'),\n",
       " (426, 'choose'),\n",
       " (425, 'ones'),\n",
       " (425, 'lines'),\n",
       " (423, 'yum'),\n",
       " (423, 'takes'),\n",
       " (422, 'seat'),\n",
       " (422, 'diego'),\n",
       " (421, 'talking'),\n",
       " (420, 'seriously'),\n",
       " (420, 'entire'),\n",
       " (418, 'hope'),\n",
       " (418, 'cut'),\n",
       " (417, 'unless'),\n",
       " (417, 'potatoes'),\n",
       " (417, 'box'),\n",
       " (416, 'lobster'),\n",
       " (415, 'pie'),\n",
       " (412, 'typical'),\n",
       " (412, 'crowd'),\n",
       " (412, 'affordable'),\n",
       " (411, 'flavorful'),\n",
       " (410, 'goes'),\n",
       " (410, 'ended'),\n",
       " (410, 'awful'),\n",
       " (409, 'longer'),\n",
       " (409, 'environment'),\n",
       " (408, 'vibe'),\n",
       " (408, 'hit'),\n",
       " (408, 'greasy'),\n",
       " (408, 'comfortable'),\n",
       " (407, 'floor'),\n",
       " (406, 'workers'),\n",
       " (406, 'owners'),\n",
       " (404, 'wall'),\n",
       " (404, 'month'),\n",
       " (403, 'type'),\n",
       " (403, 'chain'),\n",
       " (403, 'cashier'),\n",
       " (400, 'orange'),\n",
       " (399, 'vegan'),\n",
       " (397, 'toppings'),\n",
       " (394, 'los'),\n",
       " (393, 'beat'),\n",
       " (390, 'recently'),\n",
       " (390, 'asian'),\n",
       " (390, 'american'),\n",
       " (389, 'tender'),\n",
       " (389, 'paying'),\n",
       " (389, 'pancakes'),\n",
       " (388, 'within'),\n",
       " (388, 'waste'),\n",
       " (388, 'crispy'),\n",
       " (387, 'standard'),\n",
       " (387, 'read'),\n",
       " (384, 'arent'),\n",
       " (383, 'five'),\n",
       " (382, 'sales'),\n",
       " (382, '7'),\n",
       " (380, 'together'),\n",
       " (377, 'unfortunately'),\n",
       " (377, 'reservations'),\n",
       " (376, 'rib'),\n",
       " (375, 'valley'),\n",
       " (375, 'four'),\n",
       " (373, 'exactly'),\n",
       " (373, 'chili'),\n",
       " (372, 'visiting'),\n",
       " (371, 'cute'),\n",
       " (370, 'mcdonalds'),\n",
       " (370, 'hang'),\n",
       " (369, 'per'),\n",
       " (368, 'establishment'),\n",
       " (368, 'baked'),\n",
       " (367, 'heard'),\n",
       " (366, 'credit'),\n",
       " (365, 'speak'),\n",
       " (365, 'grill'),\n",
       " (364, 'veggie'),\n",
       " (364, 'sign'),\n",
       " (363, 'truly'),\n",
       " (363, 'except'),\n",
       " (363, 'company'),\n",
       " (362, 'traditional'),\n",
       " (362, 'toast'),\n",
       " (362, 'middle'),\n",
       " (361, 'glad'),\n",
       " (361, 'due'),\n",
       " (361, '25'),\n",
       " (360, 'slice'),\n",
       " (360, 'polite'),\n",
       " (360, 'including'),\n",
       " (359, 'thin'),\n",
       " (359, 'taken'),\n",
       " (359, 'forget'),\n",
       " (359, 'charged'),\n",
       " (358, 'desserts'),\n",
       " (358, 'butter'),\n",
       " (358, 'apple'),\n",
       " (357, 'asking'),\n",
       " (356, 'cozy'),\n",
       " (355, 'weekends'),\n",
       " (355, 'las'),\n",
       " (355, 'knew'),\n",
       " (354, 'south'),\n",
       " (354, 'onion'),\n",
       " (353, 'treated'),\n",
       " (353, 'forever'),\n",
       " (353, 'attention'),\n",
       " (352, 'save'),\n",
       " (352, 'que'),\n",
       " (352, 'plan'),\n",
       " (352, 'delivered'),\n",
       " (352, 'bomb'),\n",
       " (351, 'somewhere'),\n",
       " (347, 'fancy'),\n",
       " (347, '45'),\n",
       " (346, 'waiters'),\n",
       " (346, 'total'),\n",
       " (346, 'medium'),\n",
       " (345, 'limited'),\n",
       " (345, 'idea'),\n",
       " (344, 'tuna'),\n",
       " (344, 'moved'),\n",
       " (343, 'thru'),\n",
       " (343, 'sausage'),\n",
       " (342, 'head'),\n",
       " (341, 'hate'),\n",
       " (340, 'offered'),\n",
       " (340, 'feeling'),\n",
       " (340, 'cooking'),\n",
       " (339, 'smile'),\n",
       " (339, 'professional'),\n",
       " (338, 'young'),\n",
       " (338, 'original'),\n",
       " (338, 'hold'),\n",
       " (338, 'cannot'),\n",
       " (337, 'reasonably'),\n",
       " (337, 'mouth'),\n",
       " (337, 'filling'),\n",
       " (337, 'favorites'),\n",
       " (336, 'products'),\n",
       " (336, 'mins'),\n",
       " (336, 'lost'),\n",
       " (335, 'crazy'),\n",
       " (334, 'pieces'),\n",
       " (334, 'diner'),\n",
       " (333, 'months'),\n",
       " (333, 'mission'),\n",
       " (333, 'chance'),\n",
       " (332, 'muy'),\n",
       " (332, 'issue'),\n",
       " (331, 'hear'),\n",
       " (331, 'generous'),\n",
       " (330, 'worse'),\n",
       " (330, 'spent'),\n",
       " (330, 'mention'),\n",
       " (330, 'literally'),\n",
       " (330, 'dollars'),\n",
       " (330, 'dog'),\n",
       " (330, 'classic'),\n",
       " (330, 'based'),\n",
       " (330, 'bartender'),\n",
       " (329, 'true'),\n",
       " (329, 'santa'),\n",
       " (329, 'located'),\n",
       " (329, 'bucks'),\n",
       " (328, 'share'),\n",
       " (327, 'changed'),\n",
       " (326, 'kinda'),\n",
       " (325, 'finish'),\n",
       " (324, 'wifi'),\n",
       " (324, 'visited'),\n",
       " (323, 'weve'),\n",
       " (323, 'tiny'),\n",
       " (323, 'sour'),\n",
       " (322, 'consistently'),\n",
       " (321, 'otherwise'),\n",
       " (321, 'option'),\n",
       " (321, 'nights'),\n",
       " (321, 'lovely'),\n",
       " (321, 'forgot'),\n",
       " (321, 'duck'),\n",
       " (319, 'piece'),\n",
       " (319, 'bottle'),\n",
       " (317, 'tap'),\n",
       " (317, 'sell'),\n",
       " (317, 'purchase'),\n",
       " (317, 'nearby'),\n",
       " (316, 'works'),\n",
       " (316, 'knowledgeable'),\n",
       " (316, 'fix'),\n",
       " (315, 'happened'),\n",
       " (315, 'giving'),\n",
       " (315, 'entrees'),\n",
       " (314, 'popular'),\n",
       " (314, 'minute'),\n",
       " (314, 'certainly'),\n",
       " (314, 'basically'),\n",
       " (312, 'single'),\n",
       " (312, 'none'),\n",
       " (311, 'slightly'),\n",
       " (310, 'weeks'),\n",
       " (310, 'mac'),\n",
       " (310, 'gem'),\n",
       " (310, 'club'),\n",
       " (309, 'mostly'),\n",
       " (309, 'dark'),\n",
       " (308, 'werent'),\n",
       " (308, 'soft'),\n",
       " (308, 'milk'),\n",
       " (308, 'hotel'),\n",
       " (308, 'disappointing'),\n",
       " (308, 'chowder'),\n",
       " (307, 'product'),\n",
       " (307, 'fairly'),\n",
       " (306, 'turned'),\n",
       " (306, 'quiet'),\n",
       " (304, 'salty'),\n",
       " (304, 'locations'),\n",
       " (304, 'frozen'),\n",
       " (304, 'disgusting'),\n",
       " (304, 'ahead'),\n",
       " (304, '100'),\n",
       " (303, 'prefer'),\n",
       " (302, 'mixed'),\n",
       " (302, 'matter'),\n",
       " (302, 'deliver'),\n",
       " (302, 'corner'),\n",
       " (301, 'added'),\n",
       " (300, 'satisfied'),\n",
       " (300, '50'),\n",
       " (299, 'worked'),\n",
       " (299, 'pm'),\n",
       " (299, 'meet'),\n",
       " (299, 'compared'),\n",
       " (298, 'usual'),\n",
       " (298, 'son'),\n",
       " (298, 'onions'),\n",
       " (298, 'market'),\n",
       " (297, 'write'),\n",
       " (297, 'office'),\n",
       " (297, '40'),\n",
       " (296, 'double'),\n",
       " (295, 'prime'),\n",
       " (295, 'answer'),\n",
       " (294, 'tomato'),\n",
       " (294, 'oil'),\n",
       " (294, 'hostess'),\n",
       " (294, 'corn'),\n",
       " (293, 'sports'),\n",
       " (293, 'personal'),\n",
       " (292, 'noticed'),\n",
       " (292, 'margaritas'),\n",
       " (292, 'filled'),\n",
       " (292, 'fabulous'),\n",
       " (291, 'showed'),\n",
       " (290, 'juicy'),\n",
       " (288, 'sick'),\n",
       " (288, 'greeted'),\n",
       " (287, 'dim'),\n",
       " (287, 'complain'),\n",
       " (286, 'sides'),\n",
       " (286, 'dollar'),\n",
       " (286, 'carne'),\n",
       " (286, 'afternoon'),\n",
       " (285, 'deep'),\n",
       " (285, 'case'),\n",
       " (284, 'stand'),\n",
       " (284, 'sauces'),\n",
       " (284, 'salt'),\n",
       " (284, 'mix'),\n",
       " (284, 'asada'),\n",
       " (283, 'lived'),\n",
       " (283, 'easily'),\n",
       " (283, 'beyond'),\n",
       " (282, 'window'),\n",
       " (282, 'play'),\n",
       " (282, 'pad'),\n",
       " (282, 'noodle'),\n",
       " (281, 'superb'),\n",
       " (281, 'korean'),\n",
       " (281, 'bartenders'),\n",
       " (280, 'sad'),\n",
       " (280, 'combo'),\n",
       " (280, 'blue'),\n",
       " (279, 'fruit'),\n",
       " (279, 'dine'),\n",
       " (279, 'building'),\n",
       " (278, 'sum'),\n",
       " (278, 'rush'),\n",
       " (278, 'plain'),\n",
       " (277, 'setting'),\n",
       " (277, 'school'),\n",
       " (277, 'rare'),\n",
       " (277, 'games'),\n",
       " (277, 'east'),\n",
       " (276, 'immediately'),\n",
       " (276, 'creative'),\n",
       " (275, 'particular'),\n",
       " (275, 'honestly'),\n",
       " (274, 'nasty'),\n",
       " (274, 'center'),\n",
       " (273, 'watching'),\n",
       " (273, 'strong'),\n",
       " (273, 'mom'),\n",
       " (273, 'homemade'),\n",
       " (272, 'suggest'),\n",
       " (272, 'returning'),\n",
       " (272, 'feels'),\n",
       " (271, 'strip'),\n",
       " (271, 'lol'),\n",
       " (271, 'hole'),\n",
       " (271, 'entree'),\n",
       " (270, 'subway'),\n",
       " (270, 'north'),\n",
       " (270, 'mall'),\n",
       " (270, 'interior'),\n",
       " (269, 'whats'),\n",
       " (269, 'bag'),\n",
       " (269, 'anyway'),\n",
       " (268, 'opinion'),\n",
       " (268, 'deli'),\n",
       " (268, '9'),\n",
       " (267, 'whatever'),\n",
       " (267, 'note'),\n",
       " (267, 'chill'),\n",
       " (267, 'break'),\n",
       " (267, 'anymore'),\n",
       " (266, 'level'),\n",
       " (266, 'kid'),\n",
       " (266, 'face'),\n",
       " (265, 'noisy'),\n",
       " (265, 'elsewhere'),\n",
       " (265, 'bunch'),\n",
       " (264, 'smaller'),\n",
       " (264, 'conversation'),\n",
       " (263, 'notch'),\n",
       " (263, 'forward'),\n",
       " ...]"
      ]
     },
     "execution_count": 54,
     "metadata": {},
     "output_type": "execute_result"
    }
   ],
   "source": [
    "counts.sort(reverse=True)\n",
    "counts"
   ]
  },
  {
   "cell_type": "code",
   "execution_count": 55,
   "metadata": {},
   "outputs": [
    {
     "data": {
      "text/plain": [
       "60413"
      ]
     },
     "execution_count": 55,
     "metadata": {},
     "output_type": "execute_result"
    }
   ],
   "source": [
    "len(counts)"
   ]
  },
  {
   "cell_type": "code",
   "execution_count": 56,
   "metadata": {},
   "outputs": [],
   "source": [
    "words = [w[1] for w in counts[:1000]]"
   ]
  },
  {
   "cell_type": "code",
   "execution_count": 57,
   "metadata": {},
   "outputs": [
    {
     "data": {
      "text/plain": [
       "1000"
      ]
     },
     "execution_count": 57,
     "metadata": {},
     "output_type": "execute_result"
    }
   ],
   "source": [
    "len(words)"
   ]
  },
  {
   "cell_type": "code",
   "execution_count": 58,
   "metadata": {},
   "outputs": [],
   "source": [
    "wordId = dict(zip(words, range(len(words))))\n",
    "wordSet = set(words)"
   ]
  },
  {
   "cell_type": "code",
   "execution_count": null,
   "metadata": {},
   "outputs": [],
   "source": [
    "wordId"
   ]
  },
  {
   "cell_type": "code",
   "execution_count": 59,
   "metadata": {},
   "outputs": [
    {
     "data": {
      "text/plain": [
       "1000"
      ]
     },
     "execution_count": 59,
     "metadata": {},
     "output_type": "execute_result"
    }
   ],
   "source": [
    "len(wordId)"
   ]
  },
  {
   "cell_type": "code",
   "execution_count": 60,
   "metadata": {},
   "outputs": [
    {
     "data": {
      "text/plain": [
       "1000"
      ]
     },
     "execution_count": 60,
     "metadata": {},
     "output_type": "execute_result"
    }
   ],
   "source": [
    "len(wordSet)"
   ]
  },
  {
   "cell_type": "code",
   "execution_count": 61,
   "metadata": {
    "collapsed": true,
    "jupyter": {
     "outputs_hidden": true
    }
   },
   "outputs": [
    {
     "data": {
      "text/plain": [
       "{'tip',\n",
       " 'lobster',\n",
       " 'sandwiches',\n",
       " 'gem',\n",
       " 'burger',\n",
       " 'idea',\n",
       " 'write',\n",
       " 'las',\n",
       " 'added',\n",
       " 'noisy',\n",
       " 'far',\n",
       " 'since',\n",
       " 'watching',\n",
       " 'small',\n",
       " 'employees',\n",
       " 'full',\n",
       " 'served',\n",
       " 'purchase',\n",
       " 'return',\n",
       " 'today',\n",
       " 'reservation',\n",
       " 'orange',\n",
       " 'best',\n",
       " 'way',\n",
       " 'cashier',\n",
       " 'muy',\n",
       " 'hang',\n",
       " 'pie',\n",
       " 'drinks',\n",
       " '10',\n",
       " 'soup',\n",
       " 'pad',\n",
       " 'left',\n",
       " 'company',\n",
       " 'group',\n",
       " 'beat',\n",
       " 'ramen',\n",
       " 'dog',\n",
       " 'cook',\n",
       " 'something',\n",
       " 'garlic',\n",
       " 'outdoor',\n",
       " 'remember',\n",
       " 'japanese',\n",
       " 'stand',\n",
       " 'show',\n",
       " 'waiter',\n",
       " 'online',\n",
       " 'hard',\n",
       " 'youll',\n",
       " 'homemade',\n",
       " 'ever',\n",
       " 'date',\n",
       " 'foods',\n",
       " 'heard',\n",
       " 'walking',\n",
       " 'us',\n",
       " 'high',\n",
       " 'loved',\n",
       " 'fried',\n",
       " 'affordable',\n",
       " 'mcdonalds',\n",
       " 'looks',\n",
       " 'quick',\n",
       " 'bland',\n",
       " 'beautiful',\n",
       " 'floor',\n",
       " 'plain',\n",
       " 'san',\n",
       " 'beans',\n",
       " 'warm',\n",
       " 'vegan',\n",
       " 'avoid',\n",
       " 'ate',\n",
       " 'opinion',\n",
       " 'impressed',\n",
       " 'enjoy',\n",
       " '3',\n",
       " 'rare',\n",
       " 'waste',\n",
       " 'dining',\n",
       " 'chili',\n",
       " 'bacon',\n",
       " 'combo',\n",
       " 'rush',\n",
       " 'honestly',\n",
       " 'wrong',\n",
       " 'use',\n",
       " 'walk',\n",
       " 'music',\n",
       " 'arent',\n",
       " 'weeks',\n",
       " 'asking',\n",
       " 'choice',\n",
       " 'wow',\n",
       " 'crispy',\n",
       " 'usual',\n",
       " '45',\n",
       " 'returning',\n",
       " 'drive',\n",
       " 'appetizer',\n",
       " 'whatever',\n",
       " 'sushi',\n",
       " 'gets',\n",
       " 'ahead',\n",
       " 'tell',\n",
       " 'month',\n",
       " 'dark',\n",
       " 'mention',\n",
       " 'tap',\n",
       " 'two',\n",
       " 'past',\n",
       " 'mostly',\n",
       " 'center',\n",
       " 'given',\n",
       " 'wasnt',\n",
       " 'front',\n",
       " 'service',\n",
       " 'dessert',\n",
       " 'counter',\n",
       " 'lots',\n",
       " 'typical',\n",
       " 'thing',\n",
       " 'list',\n",
       " 'decided',\n",
       " 'grilled',\n",
       " 'still',\n",
       " 'late',\n",
       " 'kept',\n",
       " 'home',\n",
       " 'pretty',\n",
       " 'onion',\n",
       " 'kid',\n",
       " 'nothing',\n",
       " 'shop',\n",
       " 'got',\n",
       " 'note',\n",
       " 'fast',\n",
       " 'live',\n",
       " 'particular',\n",
       " 'day',\n",
       " 'yet',\n",
       " 'needed',\n",
       " 'opened',\n",
       " 'totally',\n",
       " 'window',\n",
       " 'sauce',\n",
       " 'workers',\n",
       " 'sports',\n",
       " 'hostess',\n",
       " 'toast',\n",
       " 'deliver',\n",
       " 'right',\n",
       " 'regular',\n",
       " 'variety',\n",
       " 'vegas',\n",
       " 'strip',\n",
       " 'says',\n",
       " 'saw',\n",
       " 'mom',\n",
       " 'interior',\n",
       " 'asada',\n",
       " 'lived',\n",
       " 'half',\n",
       " 'stores',\n",
       " 'chance',\n",
       " 'taking',\n",
       " 'world',\n",
       " 'price',\n",
       " 'offer',\n",
       " 'happened',\n",
       " 'say',\n",
       " 'restaurants',\n",
       " 'lines',\n",
       " 'immediately',\n",
       " 'bbq',\n",
       " 'servers',\n",
       " 'poor',\n",
       " 'long',\n",
       " 'creative',\n",
       " 'thru',\n",
       " 'inside',\n",
       " 'french',\n",
       " 'indian',\n",
       " 'finally',\n",
       " 'issue',\n",
       " 'sit',\n",
       " 'noodles',\n",
       " 'whats',\n",
       " 'fruit',\n",
       " 'pho',\n",
       " 'location',\n",
       " 'sweet',\n",
       " 'however',\n",
       " 'id',\n",
       " 'couple',\n",
       " 'behind',\n",
       " 'next',\n",
       " 'eaten',\n",
       " 'dishes',\n",
       " 'plenty',\n",
       " 'double',\n",
       " 'bite',\n",
       " 'stars',\n",
       " 'grill',\n",
       " 'tables',\n",
       " 'exactly',\n",
       " 'turned',\n",
       " 'several',\n",
       " 'five',\n",
       " 'going',\n",
       " 'anyone',\n",
       " 'whole',\n",
       " 'quickly',\n",
       " 'great',\n",
       " 'afternoon',\n",
       " 'birthday',\n",
       " 'pricey',\n",
       " 'though',\n",
       " 'started',\n",
       " 'santa',\n",
       " 'spent',\n",
       " 'kitchen',\n",
       " 'tastes',\n",
       " 'showed',\n",
       " 'free',\n",
       " 'sauces',\n",
       " 'pleasant',\n",
       " 'point',\n",
       " 'east',\n",
       " 'ready',\n",
       " 'friendly',\n",
       " 'wine',\n",
       " 'superb',\n",
       " 'noodle',\n",
       " 'person',\n",
       " 'one',\n",
       " 'lady',\n",
       " 'man',\n",
       " 'received',\n",
       " 'products',\n",
       " 'stay',\n",
       " 'make',\n",
       " '1',\n",
       " 'perfectly',\n",
       " 'taken',\n",
       " 'old',\n",
       " 'theres',\n",
       " 'seated',\n",
       " 'joint',\n",
       " 'cut',\n",
       " 'back',\n",
       " 'coming',\n",
       " 'cannot',\n",
       " 'cold',\n",
       " 'better',\n",
       " 'water',\n",
       " 'tea',\n",
       " 'bread',\n",
       " 'pay',\n",
       " 'atmosphere',\n",
       " 'could',\n",
       " 'offered',\n",
       " 'table',\n",
       " 'cooked',\n",
       " 'el',\n",
       " 'item',\n",
       " 'walked',\n",
       " 'saturday',\n",
       " 'bay',\n",
       " 'items',\n",
       " 'eggs',\n",
       " 'tomato',\n",
       " 'option',\n",
       " 'vibe',\n",
       " 'away',\n",
       " 'im',\n",
       " 'set',\n",
       " 'deep',\n",
       " 'looking',\n",
       " 'leave',\n",
       " 'keep',\n",
       " 'talking',\n",
       " 'incredible',\n",
       " 'recently',\n",
       " '8',\n",
       " 'making',\n",
       " 'loud',\n",
       " 'entrees',\n",
       " 'potato',\n",
       " 'definitely',\n",
       " 'ok',\n",
       " 'located',\n",
       " 'eating',\n",
       " 'selection',\n",
       " 'didnt',\n",
       " 'wont',\n",
       " 'eat',\n",
       " 'literally',\n",
       " 'decor',\n",
       " 'mixed',\n",
       " 'dinner',\n",
       " 'even',\n",
       " 'outside',\n",
       " 'everyone',\n",
       " 'trying',\n",
       " 'park',\n",
       " 'de',\n",
       " 'isnt',\n",
       " 'rest',\n",
       " 'priced',\n",
       " 'place',\n",
       " 'customers',\n",
       " 'dirty',\n",
       " 'steak',\n",
       " 'polite',\n",
       " 'buffet',\n",
       " 'coffee',\n",
       " 'understand',\n",
       " 'value',\n",
       " 'bowl',\n",
       " 'owner',\n",
       " 'instead',\n",
       " 'forget',\n",
       " 'second',\n",
       " 'popular',\n",
       " 'carne',\n",
       " 'oh',\n",
       " 'environment',\n",
       " 'wait',\n",
       " 'finish',\n",
       " 'years',\n",
       " 'filling',\n",
       " 'middle',\n",
       " 'breakfast',\n",
       " 'rude',\n",
       " 'parking',\n",
       " 'found',\n",
       " 'burgers',\n",
       " 'business',\n",
       " 'recommend',\n",
       " 'ones',\n",
       " 'yes',\n",
       " 'mexican',\n",
       " 'friend',\n",
       " 'check',\n",
       " 'curry',\n",
       " 'sum',\n",
       " 'lot',\n",
       " 'store',\n",
       " 'sales',\n",
       " 'may',\n",
       " 'tacos',\n",
       " 'burrito',\n",
       " 'chips',\n",
       " 'feels',\n",
       " 'sick',\n",
       " 'beer',\n",
       " 'starbucks',\n",
       " 'etc',\n",
       " 'either',\n",
       " 'simply',\n",
       " 'ingredients',\n",
       " 'early',\n",
       " 'deli',\n",
       " 'greeted',\n",
       " 'conversation',\n",
       " 'horrible',\n",
       " 'awful',\n",
       " 'menu',\n",
       " '20',\n",
       " 'short',\n",
       " 'needs',\n",
       " 'prices',\n",
       " 'city',\n",
       " 'easy',\n",
       " 'awesome',\n",
       " 'style',\n",
       " 'add',\n",
       " 'truly',\n",
       " 'times',\n",
       " 'healthy',\n",
       " 'cozy',\n",
       " 'frozen',\n",
       " 'nasty',\n",
       " 'salmon',\n",
       " 'hate',\n",
       " 'sour',\n",
       " 'fish',\n",
       " 'minute',\n",
       " 'space',\n",
       " 'chain',\n",
       " 'everything',\n",
       " 'lost',\n",
       " 'already',\n",
       " 'sad',\n",
       " 'yummy',\n",
       " 'twice',\n",
       " 'feeling',\n",
       " 'thank',\n",
       " 'egg',\n",
       " 'different',\n",
       " 'die',\n",
       " 'food',\n",
       " 'big',\n",
       " 'white',\n",
       " 'establishment',\n",
       " 'save',\n",
       " 'hotel',\n",
       " 'reason',\n",
       " 'lovely',\n",
       " 'name',\n",
       " 'crowd',\n",
       " 'size',\n",
       " 'watch',\n",
       " 'rib',\n",
       " 'green',\n",
       " 'fantastic',\n",
       " 'flavor',\n",
       " 'smaller',\n",
       " 'owners',\n",
       " '30',\n",
       " 'love',\n",
       " 'paying',\n",
       " 'bottle',\n",
       " 'felt',\n",
       " 'sell',\n",
       " 'getting',\n",
       " 'box',\n",
       " 'things',\n",
       " 'evening',\n",
       " 'see',\n",
       " 'go',\n",
       " 'kinda',\n",
       " 'piece',\n",
       " 'noticed',\n",
       " 'duck',\n",
       " 'roll',\n",
       " 'wings',\n",
       " 'min',\n",
       " 'onions',\n",
       " 'ordered',\n",
       " 'mouth',\n",
       " 'taste',\n",
       " 'taco',\n",
       " 'first',\n",
       " 'fresh',\n",
       " 'quiet',\n",
       " 'bucks',\n",
       " 'brunch',\n",
       " 'mall',\n",
       " 'seat',\n",
       " 'drink',\n",
       " 'yum',\n",
       " 'glad',\n",
       " 'salty',\n",
       " 'said',\n",
       " 'especially',\n",
       " 'tasted',\n",
       " 'appetizers',\n",
       " 'talk',\n",
       " 'prime',\n",
       " 'husband',\n",
       " 'product',\n",
       " 'weekend',\n",
       " 'works',\n",
       " 'seemed',\n",
       " 'anyway',\n",
       " 'every',\n",
       " 'clean',\n",
       " 'room',\n",
       " 'beyond',\n",
       " 'packed',\n",
       " 'fan',\n",
       " 'cheese',\n",
       " 'absolutely',\n",
       " 'salsa',\n",
       " 'veggie',\n",
       " 'thin',\n",
       " 'nearby',\n",
       " 'basically',\n",
       " 'kind',\n",
       " 'later',\n",
       " 'money',\n",
       " 'disappointed',\n",
       " 'unique',\n",
       " 'goes',\n",
       " 'recommended',\n",
       " 'lamb',\n",
       " 'head',\n",
       " 'months',\n",
       " 'toppings',\n",
       " 'answer',\n",
       " 'last',\n",
       " 'try',\n",
       " 'pizza',\n",
       " 'minutes',\n",
       " 'disappointing',\n",
       " 'good',\n",
       " 'probably',\n",
       " 'options',\n",
       " 'red',\n",
       " 'delivery',\n",
       " 'cute',\n",
       " 'hungry',\n",
       " 'hands',\n",
       " 'salt',\n",
       " 'games',\n",
       " 'phone',\n",
       " 'doesnt',\n",
       " 'tasting',\n",
       " 'sure',\n",
       " 'tender',\n",
       " 'side',\n",
       " 'extremely',\n",
       " 'vegetarian',\n",
       " 'outstanding',\n",
       " 'north',\n",
       " 'slow',\n",
       " 'strong',\n",
       " 'know',\n",
       " 'real',\n",
       " 'number',\n",
       " 'cost',\n",
       " 'rolls',\n",
       " 'brought',\n",
       " 'notch',\n",
       " 'miss',\n",
       " 'sandwich',\n",
       " 'cooking',\n",
       " 'expect',\n",
       " 'bit',\n",
       " 'else',\n",
       " 'filled',\n",
       " 'milk',\n",
       " 'look',\n",
       " 'want',\n",
       " 'hot',\n",
       " 'limited',\n",
       " 'cant',\n",
       " 'across',\n",
       " 'street',\n",
       " 'three',\n",
       " 'credit',\n",
       " 'mission',\n",
       " 'break',\n",
       " 'gave',\n",
       " 'quite',\n",
       " 'true',\n",
       " 'thats',\n",
       " 'interesting',\n",
       " 'mean',\n",
       " 'downtown',\n",
       " 'review',\n",
       " 'treated',\n",
       " 'wish',\n",
       " 'less',\n",
       " 'hand',\n",
       " 'came',\n",
       " 'favorite',\n",
       " 'rather',\n",
       " 'waiters',\n",
       " 'patio',\n",
       " 'prefer',\n",
       " 'pork',\n",
       " 'working',\n",
       " 'chicken',\n",
       " 'took',\n",
       " 'get',\n",
       " 'paid',\n",
       " 'south',\n",
       " 'u',\n",
       " 'manager',\n",
       " 'guys',\n",
       " 'favorites',\n",
       " '4',\n",
       " 'wouldnt',\n",
       " 'empty',\n",
       " 'pieces',\n",
       " 'actually',\n",
       " 'single',\n",
       " 'entire',\n",
       " 'elsewhere',\n",
       " 'seems',\n",
       " 'others',\n",
       " 'think',\n",
       " 'werent',\n",
       " 'setting',\n",
       " 'would',\n",
       " 'overpriced',\n",
       " 'plates',\n",
       " 'specials',\n",
       " 'bag',\n",
       " 'often',\n",
       " 'smile',\n",
       " 'perfect',\n",
       " 'amount',\n",
       " 'slice',\n",
       " 'gone',\n",
       " 'employee',\n",
       " 'saying',\n",
       " 'please',\n",
       " 'sausage',\n",
       " 'almost',\n",
       " 'worst',\n",
       " 'club',\n",
       " 'friends',\n",
       " '7',\n",
       " 'care',\n",
       " 'ask',\n",
       " 'four',\n",
       " 'cream',\n",
       " 'wife',\n",
       " 'enjoyed',\n",
       " 'view',\n",
       " 'might',\n",
       " 'dollars',\n",
       " 'pancakes',\n",
       " 'amazing',\n",
       " 'easily',\n",
       " 'someone',\n",
       " 'along',\n",
       " 'completely',\n",
       " 'due',\n",
       " 'believe',\n",
       " 'sucks',\n",
       " 'surprised',\n",
       " 'guy',\n",
       " 'fries',\n",
       " 'cheap',\n",
       " 'longer',\n",
       " '5',\n",
       " 'meals',\n",
       " 'time',\n",
       " 'dont',\n",
       " 'near',\n",
       " 'night',\n",
       " 'tiny',\n",
       " '50',\n",
       " 'anywhere',\n",
       " 'seen',\n",
       " 'deal',\n",
       " 'locations',\n",
       " 'although',\n",
       " 'lol',\n",
       " 'black',\n",
       " 'extra',\n",
       " 'spicy',\n",
       " 'forever',\n",
       " 'seating',\n",
       " 'days',\n",
       " 'generous',\n",
       " 'well',\n",
       " 'family',\n",
       " 'seafood',\n",
       " 'must',\n",
       " 'mac',\n",
       " 'waitress',\n",
       " 'told',\n",
       " 'chinese',\n",
       " 'diego',\n",
       " 'fine',\n",
       " 'decent',\n",
       " 'serve',\n",
       " 'together',\n",
       " 'school',\n",
       " 'serving',\n",
       " 'used',\n",
       " 'helpful',\n",
       " 'looked',\n",
       " 'juicy',\n",
       " 'maybe',\n",
       " 'spend',\n",
       " 'prepared',\n",
       " 'bought',\n",
       " 'comfortable',\n",
       " 'somewhere',\n",
       " 'tasty',\n",
       " 'terrible',\n",
       " 'thought',\n",
       " 'reservations',\n",
       " 'stuff',\n",
       " 'fact',\n",
       " 'including',\n",
       " 'visited',\n",
       " 'speak',\n",
       " '9',\n",
       " 'dish',\n",
       " 'certainly',\n",
       " 'hours',\n",
       " 'much',\n",
       " 'run',\n",
       " 'call',\n",
       " 'read',\n",
       " 'worse',\n",
       " 'takes',\n",
       " 'special',\n",
       " 'fancy',\n",
       " 'expected',\n",
       " 'let',\n",
       " 'spot',\n",
       " 'guess',\n",
       " 'dry',\n",
       " 'total',\n",
       " 'expensive',\n",
       " 'meat',\n",
       " 'flavorful',\n",
       " 'average',\n",
       " 'delicious',\n",
       " 'cake',\n",
       " 'seriously',\n",
       " 'dollar',\n",
       " 'casual',\n",
       " 'start',\n",
       " 'walmart',\n",
       " 'unless',\n",
       " 'meal',\n",
       " 'also',\n",
       " 'part',\n",
       " 'area',\n",
       " 'reasonable',\n",
       " 'california',\n",
       " 'crowded',\n",
       " 'except',\n",
       " 'corner',\n",
       " 'disgusting',\n",
       " 'bring',\n",
       " 'problem',\n",
       " 'chef',\n",
       " 'end',\n",
       " 'done',\n",
       " 'nice',\n",
       " 'soon',\n",
       " 'hold',\n",
       " 'crazy',\n",
       " 'dim',\n",
       " 'compared',\n",
       " 'attentive',\n",
       " 'plus',\n",
       " 'forward',\n",
       " 'stopped',\n",
       " 'seem',\n",
       " 'available',\n",
       " 'another',\n",
       " 'changed',\n",
       " 'salad',\n",
       " 'mediocre',\n",
       " 'super',\n",
       " 'per',\n",
       " 'cup',\n",
       " 'beach',\n",
       " 'staff',\n",
       " 'choices',\n",
       " 'glass',\n",
       " 'authentic',\n",
       " 'job',\n",
       " 'server',\n",
       " 'sat',\n",
       " 'grab',\n",
       " '25',\n",
       " '12',\n",
       " 'slightly',\n",
       " 'change',\n",
       " 'mind',\n",
       " 'ordering',\n",
       " 'los',\n",
       " 'butter',\n",
       " 'otherwise',\n",
       " 'play',\n",
       " 'cocktails',\n",
       " 'course',\n",
       " 'mix',\n",
       " 'hit',\n",
       " 'beef',\n",
       " 'take',\n",
       " 'visit',\n",
       " 'professional',\n",
       " 'work',\n",
       " 'open',\n",
       " 'none',\n",
       " 'waiting',\n",
       " 'buy',\n",
       " 'closed',\n",
       " 'usually',\n",
       " 'pizzas',\n",
       " 'ended',\n",
       " 'corn',\n",
       " 'que',\n",
       " 'girl',\n",
       " 'feel',\n",
       " 'friday',\n",
       " 'sides',\n",
       " 'door',\n",
       " 'ambiance',\n",
       " 'theyre',\n",
       " 'year',\n",
       " 'bad',\n",
       " 'matter',\n",
       " 'new',\n",
       " 'crab',\n",
       " 'people',\n",
       " 'bartenders',\n",
       " '15',\n",
       " 'soft',\n",
       " 'salads',\n",
       " 'made',\n",
       " 'worth',\n",
       " 'tuna',\n",
       " 'restaurant',\n",
       " 'share',\n",
       " 'ill',\n",
       " 'knowledgeable',\n",
       " 'face',\n",
       " 'cuisine',\n",
       " 'customer',\n",
       " 'happy',\n",
       " 'tried',\n",
       " 'asian',\n",
       " 'asked',\n",
       " 'sf',\n",
       " 'giving',\n",
       " 'main',\n",
       " 'fair',\n",
       " 'anything',\n",
       " 'local',\n",
       " 'havent',\n",
       " 'baked',\n",
       " 'car',\n",
       " 'lunch',\n",
       " 'plan',\n",
       " 'young',\n",
       " 'busy',\n",
       " 'worked',\n",
       " 'market',\n",
       " 'thanks',\n",
       " 'sunday',\n",
       " 'always',\n",
       " 'excellent',\n",
       " 'simple',\n",
       " 'unfortunately',\n",
       " 'cafe',\n",
       " 'crust',\n",
       " 'light',\n",
       " 'standard',\n",
       " 'bomb',\n",
       " 'hope',\n",
       " 'traditional',\n",
       " 'treat',\n",
       " 'orders',\n",
       " 'wall',\n",
       " 'star',\n",
       " 'charged',\n",
       " '100',\n",
       " 'highly',\n",
       " 'stop',\n",
       " 'wanted',\n",
       " 'management',\n",
       " 'type',\n",
       " 'subway',\n",
       " 'desserts',\n",
       " 'flavors',\n",
       " 'experience',\n",
       " 'fix',\n",
       " 'plate',\n",
       " 'attitude',\n",
       " 'weve',\n",
       " 'close',\n",
       " 'put',\n",
       " 'entree',\n",
       " 'arrived',\n",
       " 'really',\n",
       " 'moved',\n",
       " 'sometimes',\n",
       " 'shopping',\n",
       " 'help',\n",
       " 'reasonably',\n",
       " 'diner',\n",
       " 'bill',\n",
       " 'low',\n",
       " 'trip',\n",
       " 'morning',\n",
       " 'visiting',\n",
       " 'charge',\n",
       " 'comes',\n",
       " 'consistently',\n",
       " 'town',\n",
       " 'places',\n",
       " 'little',\n",
       " 'helped',\n",
       " 'meet',\n",
       " 'able',\n",
       " 'oil',\n",
       " 'liked',\n",
       " 'sitting',\n",
       " 'sorry',\n",
       " 'medium',\n",
       " 'delivered',\n",
       " 'portions',\n",
       " 'complain',\n",
       " 'okay',\n",
       " 'party',\n",
       " 'many',\n",
       " 'choose',\n",
       " 'la',\n",
       " 'satisfied',\n",
       " 'building',\n",
       " 'house',\n",
       " 'cool',\n",
       " 'level',\n",
       " 'week',\n",
       " '40',\n",
       " 'korean',\n",
       " 'forgot',\n",
       " '6',\n",
       " 'chocolate',\n",
       " 'case',\n",
       " 'huge',\n",
       " 'n',\n",
       " 'nights',\n",
       " 'within',\n",
       " 'went',\n",
       " 'margaritas',\n",
       " 'portion',\n",
       " 'like',\n",
       " 'without',\n",
       " 'couldnt',\n",
       " 'ice',\n",
       " 'need',\n",
       " 'waited',\n",
       " 'cash',\n",
       " 'weekends',\n",
       " 'fabulous',\n",
       " 'american',\n",
       " 'hole',\n",
       " 'find',\n",
       " 'francisco',\n",
       " 'enough',\n",
       " 'reviews',\n",
       " 'sign',\n",
       " 'pasta',\n",
       " 'card',\n",
       " 'anymore',\n",
       " 'wifi',\n",
       " 'makes',\n",
       " 'shrimp',\n",
       " 'overall',\n",
       " 'based',\n",
       " 'chowder',\n",
       " 'wonderful',\n",
       " 'around',\n",
       " 'pm',\n",
       " 'thai',\n",
       " 'personal',\n",
       " 'apple',\n",
       " 'beers',\n",
       " 'solid',\n",
       " 'office',\n",
       " 'fairly',\n",
       " 'greasy',\n",
       " 'pick',\n",
       " 'mins',\n",
       " 'order',\n",
       " 'ago',\n",
       " 'bunch',\n",
       " 'suggest',\n",
       " 'come',\n",
       " 'quality',\n",
       " 'line',\n",
       " 'game',\n",
       " 'attention',\n",
       " 'hear',\n",
       " 'burritos',\n",
       " 'son',\n",
       " 'rice',\n",
       " 'least',\n",
       " 'give',\n",
       " 'bartender',\n",
       " 'original',\n",
       " 'bar',\n",
       " 'valley',\n",
       " 'ive',\n",
       " 'life',\n",
       " 'chill',\n",
       " '2',\n",
       " 'youre',\n",
       " 'hour',\n",
       " 'dine',\n",
       " 'italian',\n",
       " 'fun',\n",
       " 'knew',\n",
       " 'ribs',\n",
       " 'blue',\n",
       " 'classic',\n",
       " 'neighborhood',\n",
       " 'kids',\n",
       " 'never',\n",
       " 'large',\n",
       " 'top',\n",
       " 'potatoes',\n",
       " 'called'}"
      ]
     },
     "execution_count": 61,
     "metadata": {},
     "output_type": "execute_result"
    }
   ],
   "source": [
    "wordSet"
   ]
  },
  {
   "cell_type": "markdown",
   "metadata": {},
   "source": [
    "### Baseline Model  f(word vector) -> rating\n",
    "(Compare with other advanced models by comparing MSE)"
   ]
  },
  {
   "cell_type": "code",
   "execution_count": 111,
   "metadata": {},
   "outputs": [],
   "source": [
    "def feature(datum):\n",
    "    feat = [0]*len(wordSet)\n",
    "    t = datum['reviewText']\n",
    "    t = t.lower()\n",
    "    t = [c for c in t if not (c in punct)]\n",
    "    t = ''.join(t)\n",
    "    words = t.strip().split()\n",
    "    for w in words:\n",
    "        if not (w in wordSet): continue\n",
    "        feat[wordId[w]] += 1\n",
    "    feat.append(1)\n",
    "    return feat"
   ]
  },
  {
   "cell_type": "code",
   "execution_count": 112,
   "metadata": {},
   "outputs": [],
   "source": [
    "X = [feature(d) for d in reviewsCA]\n",
    "y = [d['rating'] for d in reviewsCA]"
   ]
  },
  {
   "cell_type": "code",
   "execution_count": 113,
   "metadata": {},
   "outputs": [
    {
     "data": {
      "text/plain": [
       "{'rating': 4.0,\n",
       " 'reviewerName': 'william spindler',\n",
       " 'reviewText': 'Best War Wanton soup in Red Bluff',\n",
       " 'categories': ['Asian Restaurant', 'Chinese Restaurant'],\n",
       " 'gPlusPlaceId': '106591714648856494903',\n",
       " 'unixReviewTime': 1394669496,\n",
       " 'reviewTime': 'Mar 12, 2014',\n",
       " 'gPlusUserId': '100000032416892623125',\n",
       " 'gps': [[40.179159, -122.236162]],\n",
       " 'price': ['$$$'],\n",
       " 'reviewLength': 33,\n",
       " 'reviewHour': '00',\n",
       " 'hotHour': [1.0,\n",
       "  0.0,\n",
       "  0.0,\n",
       "  0.0,\n",
       "  0.0,\n",
       "  0.0,\n",
       "  0.0,\n",
       "  0.0,\n",
       "  0.0,\n",
       "  0.0,\n",
       "  0.0,\n",
       "  0.0,\n",
       "  0.0,\n",
       "  0.0,\n",
       "  0.0,\n",
       "  0.0,\n",
       "  0.0,\n",
       "  0.0,\n",
       "  0.0,\n",
       "  0.0,\n",
       "  0.0,\n",
       "  0.0,\n",
       "  0.0,\n",
       "  0.0],\n",
       " 'hotPrice': [0.0, 0.0, 1.0]}"
      ]
     },
     "execution_count": 113,
     "metadata": {},
     "output_type": "execute_result"
    }
   ],
   "source": [
    "reviewsCA[0]"
   ]
  },
  {
   "cell_type": "code",
   "execution_count": null,
   "metadata": {},
   "outputs": [],
   "source": [
    "len(X)"
   ]
  },
  {
   "cell_type": "code",
   "execution_count": null,
   "metadata": {},
   "outputs": [],
   "source": [
    "sum([2 in x for x in X])"
   ]
  },
  {
   "cell_type": "code",
   "execution_count": null,
   "metadata": {},
   "outputs": [],
   "source": [
    "len(y)"
   ]
  },
  {
   "cell_type": "code",
   "execution_count": 114,
   "metadata": {},
   "outputs": [],
   "source": [
    "Xtrain = X[:int(0.8*len(X))]\n",
    "Xvalid = X[int(0.8*len(X)):int(0.9*len(X))]\n",
    "Xtest = X[int(0.9*len(X)):]\n",
    "\n",
    "ytrain = y[:int(0.8*len(y))]\n",
    "yvalid = y[int(0.8*len(y)):int(0.9*len(y))]\n",
    "ytest = y[int(0.9*len(y)):]"
   ]
  },
  {
   "cell_type": "code",
   "execution_count": null,
   "metadata": {},
   "outputs": [],
   "source": [
    "ytrain[0]"
   ]
  },
  {
   "cell_type": "code",
   "execution_count": 115,
   "metadata": {},
   "outputs": [],
   "source": [
    "clf = linear_model.Ridge(1, fit_intercept=False)\n",
    "clf.fit(Xtrain, ytrain)\n",
    "theta = clf.coef_\n",
    "pred_ytrain = clf.predict(Xtrain)"
   ]
  },
  {
   "cell_type": "code",
   "execution_count": 130,
   "metadata": {},
   "outputs": [
    {
     "data": {
      "text/plain": [
       "array([4.18268486, 4.79245583, 4.44904744, ..., 2.78823577, 1.69340961,\n",
       "       2.91116113])"
      ]
     },
     "execution_count": 130,
     "metadata": {},
     "output_type": "execute_result"
    }
   ],
   "source": [
    "pred_ytrain"
   ]
  },
  {
   "cell_type": "code",
   "execution_count": 116,
   "metadata": {},
   "outputs": [
    {
     "data": {
      "text/plain": [
       "0.8449665591826174"
      ]
     },
     "execution_count": 116,
     "metadata": {},
     "output_type": "execute_result"
    }
   ],
   "source": [
    "MSEtrain = mean_squared_error(ytrain, pred_ytrain)\n",
    "MSEtrain"
   ]
  },
  {
   "cell_type": "code",
   "execution_count": 117,
   "metadata": {},
   "outputs": [
    {
     "data": {
      "text/plain": [
       "0.888903371127503"
      ]
     },
     "execution_count": 117,
     "metadata": {},
     "output_type": "execute_result"
    }
   ],
   "source": [
    "pred_yvalid = clf.predict(Xvalid)\n",
    "MSEvalid = mean_squared_error(yvalid, pred_yvalid)\n",
    "MSEvalid"
   ]
  },
  {
   "cell_type": "code",
   "execution_count": 118,
   "metadata": {},
   "outputs": [
    {
     "data": {
      "text/plain": [
       "0.8539993216648606"
      ]
     },
     "execution_count": 118,
     "metadata": {},
     "output_type": "execute_result"
    }
   ],
   "source": [
    "pred_ytest = clf.predict(Xtest)\n",
    "MSEtest = mean_squared_error(ytest, pred_ytest)\n",
    "MSEtest"
   ]
  },
  {
   "cell_type": "markdown",
   "metadata": {},
   "source": [
    "### Advanced Model 1 (Better than baseline) f(word vector, review length, hour, price) -> rating"
   ]
  },
  {
   "cell_type": "code",
   "execution_count": 119,
   "metadata": {},
   "outputs": [],
   "source": [
    "for i in range(0, len(reviewsCA)):\n",
    "    reviewsCA[i].update({'reviewLength':len(reviewsCA[i]['reviewText'])})\n",
    "    reviewsCA[i].update({'reviewHour':int(datetime.utcfromtimestamp(reviewsCA[i]['unixReviewTime']).strftime('%Y-%m-%d %H:%M:%S')[11:13])})\n",
    "    reviewsCA[i].update({'priceRank':1 if reviewsCA[i]['price'] == ['$'] else 2 if reviewsCA[i]['price'] == ['$$'] else 3})"
   ]
  },
  {
   "cell_type": "code",
   "execution_count": 120,
   "metadata": {},
   "outputs": [
    {
     "data": {
      "text/plain": [
       "76254"
      ]
     },
     "execution_count": 120,
     "metadata": {},
     "output_type": "execute_result"
    }
   ],
   "source": [
    "len(reviewsCA)"
   ]
  },
  {
   "cell_type": "code",
   "execution_count": 121,
   "metadata": {
    "collapsed": true,
    "jupyter": {
     "outputs_hidden": true
    }
   },
   "outputs": [
    {
     "data": {
      "text/plain": [
       "{'rating': 5.0,\n",
       " 'reviewerName': 'william spindler',\n",
       " 'reviewText': 'Long time favorite Mexican food, always consistent and great tasting.',\n",
       " 'categories': ['Mexican Restaurant'],\n",
       " 'gPlusPlaceId': '115827996910815192564',\n",
       " 'unixReviewTime': 1394669713,\n",
       " 'reviewTime': 'Mar 12, 2014',\n",
       " 'gPlusUserId': '100000032416892623125',\n",
       " 'gps': [[40.175064, -122.242574]],\n",
       " 'price': ['$$'],\n",
       " 'reviewLength': 69,\n",
       " 'reviewHour': 0,\n",
       " 'hotHour': [1.0,\n",
       "  0.0,\n",
       "  0.0,\n",
       "  0.0,\n",
       "  0.0,\n",
       "  0.0,\n",
       "  0.0,\n",
       "  0.0,\n",
       "  0.0,\n",
       "  0.0,\n",
       "  0.0,\n",
       "  0.0,\n",
       "  0.0,\n",
       "  0.0,\n",
       "  0.0,\n",
       "  0.0,\n",
       "  0.0,\n",
       "  0.0,\n",
       "  0.0,\n",
       "  0.0,\n",
       "  0.0,\n",
       "  0.0,\n",
       "  0.0,\n",
       "  0.0],\n",
       " 'hotPrice': [0.0, 1.0, 0.0],\n",
       " 'priceRank': 2}"
      ]
     },
     "execution_count": 121,
     "metadata": {},
     "output_type": "execute_result"
    }
   ],
   "source": [
    "reviewsCA[2]"
   ]
  },
  {
   "cell_type": "code",
   "execution_count": 122,
   "metadata": {},
   "outputs": [],
   "source": [
    "def feature(datum):\n",
    "    feat = [0]*len(wordSet)\n",
    "    t = datum['reviewText']\n",
    "    t = t.lower()\n",
    "    t = [c for c in t if not (c in punct)]\n",
    "    t = ''.join(t)\n",
    "    words = t.strip().split()\n",
    "    for w in words:\n",
    "        if not (w in wordSet): continue\n",
    "        feat[wordId[w]] += 1\n",
    "    feat.append(1)\n",
    "    feat.append(datum['reviewLength'])\n",
    "    feat.append(datum['reviewHour'])\n",
    "    feat.append(datum['priceRank'])\n",
    "    return feat"
   ]
  },
  {
   "cell_type": "code",
   "execution_count": 123,
   "metadata": {},
   "outputs": [],
   "source": [
    "X = [feature(d) for d in reviewsCA]\n",
    "y = [d['rating'] for d in reviewsCA]"
   ]
  },
  {
   "cell_type": "code",
   "execution_count": 124,
   "metadata": {},
   "outputs": [
    {
     "data": {
      "text/plain": [
       "[1, 69, 0, 2]"
      ]
     },
     "execution_count": 124,
     "metadata": {},
     "output_type": "execute_result"
    }
   ],
   "source": [
    "X[2][-4:]"
   ]
  },
  {
   "cell_type": "code",
   "execution_count": null,
   "metadata": {},
   "outputs": [],
   "source": [
    "y[2]"
   ]
  },
  {
   "cell_type": "code",
   "execution_count": 125,
   "metadata": {},
   "outputs": [],
   "source": [
    "Xtrain = X[:int(0.8*len(X))]\n",
    "Xvalid = X[int(0.8*len(X)):int(0.9*len(X))]\n",
    "Xtest = X[int(0.9*len(X)):]\n",
    "\n",
    "ytrain = y[:int(0.8*len(y))]\n",
    "yvalid = y[int(0.8*len(y)):int(0.9*len(y))]\n",
    "ytest = y[int(0.9*len(y)):]"
   ]
  },
  {
   "cell_type": "code",
   "execution_count": 126,
   "metadata": {},
   "outputs": [],
   "source": [
    "clf = linear_model.Ridge(1, fit_intercept=False)\n",
    "clf.fit(Xtrain, ytrain)\n",
    "theta = clf.coef_\n",
    "pred_ytrain = clf.predict(Xtrain)"
   ]
  },
  {
   "cell_type": "code",
   "execution_count": 127,
   "metadata": {},
   "outputs": [
    {
     "data": {
      "text/plain": [
       "0.8423027028004455"
      ]
     },
     "execution_count": 127,
     "metadata": {},
     "output_type": "execute_result"
    }
   ],
   "source": [
    "MSEtrain = mean_squared_error(ytrain, pred_ytrain)\n",
    "MSEtrain"
   ]
  },
  {
   "cell_type": "code",
   "execution_count": 128,
   "metadata": {},
   "outputs": [
    {
     "data": {
      "text/plain": [
       "0.8846847452724249"
      ]
     },
     "execution_count": 128,
     "metadata": {},
     "output_type": "execute_result"
    }
   ],
   "source": [
    "pred_yvalid = clf.predict(Xvalid)\n",
    "MSEvalid = mean_squared_error(yvalid, pred_yvalid)\n",
    "MSEvalid"
   ]
  },
  {
   "cell_type": "code",
   "execution_count": 129,
   "metadata": {},
   "outputs": [
    {
     "data": {
      "text/plain": [
       "0.8506844249140023"
      ]
     },
     "execution_count": 129,
     "metadata": {},
     "output_type": "execute_result"
    }
   ],
   "source": [
    "pred_ytest = clf.predict(Xtest)\n",
    "MSEtest = mean_squared_error(ytest, pred_ytest)\n",
    "MSEtest"
   ]
  },
  {
   "cell_type": "markdown",
   "metadata": {},
   "source": [
    "### Advanced Model 2 (Better than baseline but can't beat Advanced Model 1) f(word vector, hour, price) -> rating"
   ]
  },
  {
   "cell_type": "code",
   "execution_count": null,
   "metadata": {},
   "outputs": [],
   "source": [
    "def feature(datum):\n",
    "    feat = [0]*len(wordSet)\n",
    "    t = datum['reviewText']\n",
    "    t = t.lower()\n",
    "    t = [c for c in t if not (c in punct)]\n",
    "    t = ''.join(t)\n",
    "    words = t.strip().split()\n",
    "    for w in words:\n",
    "        if not (w in wordSet): continue\n",
    "        feat[wordId[w]] += 1\n",
    "    feat.append(1)\n",
    "    #feat.append(datum['reviewLength'])\n",
    "    feat.append(datum['reviewHour'])\n",
    "    feat.append(datum['priceRank'])\n",
    "    return feat"
   ]
  },
  {
   "cell_type": "code",
   "execution_count": null,
   "metadata": {},
   "outputs": [],
   "source": [
    "reviewsCA[2]"
   ]
  },
  {
   "cell_type": "code",
   "execution_count": null,
   "metadata": {},
   "outputs": [],
   "source": [
    "X = [feature(d) for d in reviewsCA]\n",
    "y = [d['rating'] for d in reviewsCA]"
   ]
  },
  {
   "cell_type": "code",
   "execution_count": null,
   "metadata": {},
   "outputs": [],
   "source": [
    "X[2][-5:]"
   ]
  },
  {
   "cell_type": "code",
   "execution_count": null,
   "metadata": {},
   "outputs": [],
   "source": [
    "len(X)"
   ]
  },
  {
   "cell_type": "code",
   "execution_count": null,
   "metadata": {},
   "outputs": [],
   "source": [
    "Xtrain = X[:int(0.8*len(X))]\n",
    "Xvalid = X[int(0.8*len(X)):int(0.9*len(X))]\n",
    "Xtest = X[int(0.9*len(X)):]\n",
    "\n",
    "ytrain = y[:int(0.8*len(y))]\n",
    "yvalid = y[int(0.8*len(y)):int(0.9*len(y))]\n",
    "ytest = y[int(0.9*len(y)):]"
   ]
  },
  {
   "cell_type": "code",
   "execution_count": null,
   "metadata": {},
   "outputs": [],
   "source": [
    "clf = linear_model.Ridge(1, fit_intercept=False)\n",
    "clf.fit(Xtrain, ytrain)\n",
    "theta = clf.coef_\n",
    "pred_ytrain = clf.predict(Xtrain)"
   ]
  },
  {
   "cell_type": "code",
   "execution_count": null,
   "metadata": {},
   "outputs": [],
   "source": [
    "MSEtrain = mean_squared_error(ytrain, pred_ytrain)\n",
    "MSEtrain"
   ]
  },
  {
   "cell_type": "code",
   "execution_count": null,
   "metadata": {},
   "outputs": [],
   "source": [
    "pred_yvalid = clf.predict(Xvalid)\n",
    "MSEvalid = mean_squared_error(yvalid, pred_yvalid)\n",
    "MSEvalid"
   ]
  },
  {
   "cell_type": "code",
   "execution_count": null,
   "metadata": {},
   "outputs": [],
   "source": [
    "pred_ytest = clf.predict(Xtest)\n",
    "MSEtest = mean_squared_error(ytest, pred_ytest)\n",
    "MSEtest"
   ]
  },
  {
   "cell_type": "markdown",
   "metadata": {},
   "source": [
    "### Advanced Model 3 (Not better than baseline) f(review length, hour, price) -> rating"
   ]
  },
  {
   "cell_type": "code",
   "execution_count": null,
   "metadata": {},
   "outputs": [],
   "source": [
    "def feature(datum):\n",
    "    return [1, datum['reviewLength'], datum['reviewHour'], datum['priceRank']]"
   ]
  },
  {
   "cell_type": "code",
   "execution_count": null,
   "metadata": {},
   "outputs": [],
   "source": [
    "X = [feature(d) for d in dataset]\n",
    "y = [d['rating'] for d in dataset]"
   ]
  },
  {
   "cell_type": "code",
   "execution_count": null,
   "metadata": {},
   "outputs": [],
   "source": [
    "X[2]"
   ]
  },
  {
   "cell_type": "code",
   "execution_count": null,
   "metadata": {},
   "outputs": [],
   "source": [
    "Xtrain = X[:int(0.8*len(X))]\n",
    "Xvalid = X[int(0.8*len(X)):int(0.9*len(X))]\n",
    "Xtest = X[int(0.9*len(X)):]\n",
    "\n",
    "ytrain = y[:int(0.8*len(y))]\n",
    "yvalid = y[int(0.8*len(y)):int(0.9*len(y))]\n",
    "ytest = y[int(0.9*len(y)):]"
   ]
  },
  {
   "cell_type": "code",
   "execution_count": null,
   "metadata": {},
   "outputs": [],
   "source": [
    "clf = linear_model.Ridge(1, fit_intercept=False)\n",
    "clf.fit(Xtrain, ytrain)\n",
    "theta = clf.coef_\n",
    "pred_ytrain = clf.predict(Xtrain)"
   ]
  },
  {
   "cell_type": "code",
   "execution_count": null,
   "metadata": {},
   "outputs": [],
   "source": [
    "MSEtrain = mean_squared_error(ytrain, pred_ytrain)\n",
    "MSEtrain"
   ]
  },
  {
   "cell_type": "code",
   "execution_count": null,
   "metadata": {},
   "outputs": [],
   "source": [
    "pred_yvalid = clf.predict(Xvalid)\n",
    "MSEvalid = mean_squared_error(yvalid, pred_yvalid)\n",
    "MSEvalid"
   ]
  },
  {
   "cell_type": "code",
   "execution_count": null,
   "metadata": {},
   "outputs": [],
   "source": [
    "pred_ytest = clf.predict(Xtest)\n",
    "MSEtest = mean_squared_error(ytest, pred_ytest)\n",
    "MSEtest"
   ]
  },
  {
   "cell_type": "markdown",
   "metadata": {},
   "source": [
    "### Advanced Model 4 (Not better than baseline) remove neutral words f(word vector, review length, hour, price) -> rating"
   ]
  },
  {
   "cell_type": "code",
   "execution_count": null,
   "metadata": {},
   "outputs": [],
   "source": [
    "from textblob import TextBlob"
   ]
  },
  {
   "cell_type": "code",
   "execution_count": null,
   "metadata": {},
   "outputs": [],
   "source": [
    "wordCount = defaultdict(int)\n",
    "totalWords = 0\n",
    "punct = string.punctuation\n",
    "#stemmer = PorterStemmer()\n",
    "\n",
    "for d in reviewsCA:\n",
    "    t = d['reviewText']\n",
    "    t = t.lower() # lowercase string\n",
    "    t = [c for c in t if not (c in punct)] # non-punct characters\n",
    "    t = ''.join(t) # convert back to string\n",
    "    words = t.strip().split() # tokenizes\n",
    "    for w in words:\n",
    "        if w not in stop_words and TextBlob(w).sentiment[0] != 0:\n",
    "            #w = stemmer.stem(w)\n",
    "            totalWords += 1\n",
    "            wordCount[w] += 1"
   ]
  },
  {
   "cell_type": "code",
   "execution_count": null,
   "metadata": {},
   "outputs": [],
   "source": [
    "totalWords"
   ]
  },
  {
   "cell_type": "code",
   "execution_count": null,
   "metadata": {},
   "outputs": [],
   "source": [
    "len(wordCount)"
   ]
  },
  {
   "cell_type": "code",
   "execution_count": null,
   "metadata": {},
   "outputs": [],
   "source": [
    "wordCount"
   ]
  },
  {
   "cell_type": "code",
   "execution_count": null,
   "metadata": {},
   "outputs": [],
   "source": [
    "counts = [(wordCount[w] , w) for w in wordCount]"
   ]
  },
  {
   "cell_type": "code",
   "execution_count": null,
   "metadata": {},
   "outputs": [],
   "source": [
    "counts.sort(reverse=True)\n",
    "len(counts)"
   ]
  },
  {
   "cell_type": "code",
   "execution_count": null,
   "metadata": {},
   "outputs": [],
   "source": [
    "counts"
   ]
  },
  {
   "cell_type": "code",
   "execution_count": null,
   "metadata": {},
   "outputs": [],
   "source": [
    "words = [w[1] for w in counts]"
   ]
  },
  {
   "cell_type": "code",
   "execution_count": null,
   "metadata": {},
   "outputs": [],
   "source": [
    "words"
   ]
  },
  {
   "cell_type": "code",
   "execution_count": null,
   "metadata": {},
   "outputs": [],
   "source": [
    "wordId = dict(zip(words, range(len(words))))\n",
    "wordSet = set(words)"
   ]
  },
  {
   "cell_type": "code",
   "execution_count": null,
   "metadata": {},
   "outputs": [],
   "source": [
    "len(wordSet)"
   ]
  },
  {
   "cell_type": "code",
   "execution_count": null,
   "metadata": {},
   "outputs": [],
   "source": [
    "def feature(datum):\n",
    "    feat = [0]*len(wordSet)\n",
    "    t = datum['reviewText']\n",
    "    t = t.lower()\n",
    "    t = [c for c in t if not (c in punct)]\n",
    "    t = ''.join(t)\n",
    "    words = t.strip().split()\n",
    "    for w in words:\n",
    "        if not (w in wordSet): continue\n",
    "        feat[wordId[w]] += 1\n",
    "    feat.append(1)\n",
    "    feat.append(datum['reviewLength'])\n",
    "    feat.append(datum['reviewHour'])\n",
    "    feat.append(datum['priceRank'])\n",
    "    return feat"
   ]
  },
  {
   "cell_type": "code",
   "execution_count": null,
   "metadata": {},
   "outputs": [],
   "source": [
    "X = [feature(d) for d in reviewsCA]\n",
    "y = [d['rating'] for d in reviewsCA]"
   ]
  },
  {
   "cell_type": "code",
   "execution_count": null,
   "metadata": {},
   "outputs": [],
   "source": [
    "len(X[2])"
   ]
  },
  {
   "cell_type": "code",
   "execution_count": null,
   "metadata": {},
   "outputs": [],
   "source": [
    "Xtrain = X[:int(0.8*len(X))]\n",
    "Xvalid = X[int(0.8*len(X)):int(0.9*len(X))]\n",
    "Xtest = X[int(0.9*len(X)):]\n",
    "\n",
    "ytrain = y[:int(0.8*len(y))]\n",
    "yvalid = y[int(0.8*len(y)):int(0.9*len(y))]\n",
    "ytest = y[int(0.9*len(y)):]"
   ]
  },
  {
   "cell_type": "code",
   "execution_count": null,
   "metadata": {},
   "outputs": [],
   "source": [
    "clf = linear_model.Ridge(1, fit_intercept=False)\n",
    "clf.fit(Xtrain, ytrain)\n",
    "theta = clf.coef_\n",
    "pred_ytrain = clf.predict(Xtrain)"
   ]
  },
  {
   "cell_type": "code",
   "execution_count": null,
   "metadata": {},
   "outputs": [],
   "source": [
    "MSEtrain = mean_squared_error(ytrain, pred_ytrain)\n",
    "MSEtrain"
   ]
  },
  {
   "cell_type": "code",
   "execution_count": null,
   "metadata": {},
   "outputs": [],
   "source": [
    "pred_yvalid = clf.predict(Xvalid)\n",
    "MSEvalid = mean_squared_error(yvalid, pred_yvalid)\n",
    "MSEvalid"
   ]
  },
  {
   "cell_type": "code",
   "execution_count": null,
   "metadata": {},
   "outputs": [],
   "source": [
    "pred_ytest = clf.predict(Xtest)\n",
    "MSEtest = mean_squared_error(ytest, pred_ytest)\n",
    "MSEtest"
   ]
  },
  {
   "cell_type": "markdown",
   "metadata": {},
   "source": [
    "### Only word vector (Not better than baseline)"
   ]
  },
  {
   "cell_type": "code",
   "execution_count": null,
   "metadata": {},
   "outputs": [],
   "source": [
    "def feature(datum):\n",
    "    feat = [0]*len(wordSet)\n",
    "    t = datum['reviewText']\n",
    "    t = t.lower()\n",
    "    t = [c for c in t if not (c in punct)]\n",
    "    t = ''.join(t)\n",
    "    words = t.strip().split()\n",
    "    for w in words:\n",
    "        if not (w in wordSet): continue\n",
    "        feat[wordId[w]] += 1\n",
    "    feat.append(1)\n",
    "    #feat.append(datum['reviewLength'])\n",
    "    #feat.append(datum['reviewHour'])\n",
    "    #feat.append(datum['priceRank'])\n",
    "    return feat"
   ]
  },
  {
   "cell_type": "code",
   "execution_count": null,
   "metadata": {},
   "outputs": [],
   "source": [
    "X = [feature(d) for d in reviewsCA]\n",
    "y = [d['rating'] for d in reviewsCA]"
   ]
  },
  {
   "cell_type": "code",
   "execution_count": null,
   "metadata": {},
   "outputs": [],
   "source": [
    "len(X[2])"
   ]
  },
  {
   "cell_type": "code",
   "execution_count": null,
   "metadata": {},
   "outputs": [],
   "source": [
    "Xtrain = X[:int(0.8*len(X))]\n",
    "Xvalid = X[int(0.8*len(X)):int(0.9*len(X))]\n",
    "Xtest = X[int(0.9*len(X)):]\n",
    "\n",
    "ytrain = y[:int(0.8*len(y))]\n",
    "yvalid = y[int(0.8*len(y)):int(0.9*len(y))]\n",
    "ytest = y[int(0.9*len(y)):]"
   ]
  },
  {
   "cell_type": "code",
   "execution_count": null,
   "metadata": {},
   "outputs": [],
   "source": [
    "clf = linear_model.Ridge(1, fit_intercept=False)\n",
    "clf.fit(Xtrain, ytrain)\n",
    "theta = clf.coef_\n",
    "pred_ytrain = clf.predict(Xtrain)"
   ]
  },
  {
   "cell_type": "code",
   "execution_count": null,
   "metadata": {},
   "outputs": [],
   "source": [
    "MSEtrain = mean_squared_error(ytrain, pred_ytrain)\n",
    "MSEtrain"
   ]
  },
  {
   "cell_type": "code",
   "execution_count": null,
   "metadata": {},
   "outputs": [],
   "source": [
    "pred_yvalid = clf.predict(Xvalid)\n",
    "MSEvalid = mean_squared_error(yvalid, pred_yvalid)\n",
    "MSEvalid"
   ]
  },
  {
   "cell_type": "code",
   "execution_count": null,
   "metadata": {},
   "outputs": [],
   "source": [
    "pred_ytest = clf.predict(Xtest)\n",
    "MSEtest = mean_squared_error(ytest, pred_ytest)\n",
    "MSEtest"
   ]
  },
  {
   "cell_type": "markdown",
   "metadata": {},
   "source": [
    "### Advanced Model 5"
   ]
  },
  {
   "cell_type": "code",
   "execution_count": null,
   "metadata": {},
   "outputs": [],
   "source": [
    "len(reviewsCA)"
   ]
  },
  {
   "cell_type": "code",
   "execution_count": 134,
   "metadata": {},
   "outputs": [],
   "source": [
    "for i in range(0, len(reviewsCA)):\n",
    "    reviewsCA[i].update({'reviewSentiment':'positive' if TextBlob(reviewsCA[i]['reviewText']).sentiment[0] > 0 else 'negative' if TextBlob(reviewsCA[i]['reviewText']).sentiment[0] < 0 else 'neutral'})"
   ]
  },
  {
   "cell_type": "code",
   "execution_count": 135,
   "metadata": {},
   "outputs": [
    {
     "data": {
      "text/plain": [
       "{'rating': 5.0,\n",
       " 'reviewerName': 'william spindler',\n",
       " 'reviewText': 'Long time favorite Mexican food, always consistent and great tasting.',\n",
       " 'categories': ['Mexican Restaurant'],\n",
       " 'gPlusPlaceId': '115827996910815192564',\n",
       " 'unixReviewTime': 1394669713,\n",
       " 'reviewTime': 'Mar 12, 2014',\n",
       " 'gPlusUserId': '100000032416892623125',\n",
       " 'gps': [[40.175064, -122.242574]],\n",
       " 'price': ['$$'],\n",
       " 'reviewLength': 69,\n",
       " 'reviewHour': 0,\n",
       " 'hotHour': [1.0,\n",
       "  0.0,\n",
       "  0.0,\n",
       "  0.0,\n",
       "  0.0,\n",
       "  0.0,\n",
       "  0.0,\n",
       "  0.0,\n",
       "  0.0,\n",
       "  0.0,\n",
       "  0.0,\n",
       "  0.0,\n",
       "  0.0,\n",
       "  0.0,\n",
       "  0.0,\n",
       "  0.0,\n",
       "  0.0,\n",
       "  0.0,\n",
       "  0.0,\n",
       "  0.0,\n",
       "  0.0,\n",
       "  0.0,\n",
       "  0.0,\n",
       "  0.0],\n",
       " 'hotPrice': [0.0, 1.0, 0.0],\n",
       " 'priceRank': 2,\n",
       " 'reviewSentiment': 'positive'}"
      ]
     },
     "execution_count": 135,
     "metadata": {},
     "output_type": "execute_result"
    }
   ],
   "source": [
    "reviewsCA[2]"
   ]
  },
  {
   "cell_type": "code",
   "execution_count": 136,
   "metadata": {},
   "outputs": [],
   "source": [
    "sent = []\n",
    "for d in reviewsCA:\n",
    "    sent.append(d['reviewSentiment'])"
   ]
  },
  {
   "cell_type": "code",
   "execution_count": 137,
   "metadata": {},
   "outputs": [
    {
     "data": {
      "text/plain": [
       "76254"
      ]
     },
     "execution_count": 137,
     "metadata": {},
     "output_type": "execute_result"
    }
   ],
   "source": [
    "len(sent)"
   ]
  },
  {
   "cell_type": "code",
   "execution_count": 148,
   "metadata": {},
   "outputs": [
    {
     "data": {
      "text/plain": [
       "['positive',\n",
       " 'positive',\n",
       " 'negative',\n",
       " 'neutral',\n",
       " 'negative',\n",
       " 'negative',\n",
       " 'positive',\n",
       " 'positive',\n",
       " 'positive',\n",
       " 'negative']"
      ]
     },
     "execution_count": 148,
     "metadata": {},
     "output_type": "execute_result"
    }
   ],
   "source": [
    "sent[-10:]"
   ]
  },
  {
   "cell_type": "code",
   "execution_count": 140,
   "metadata": {},
   "outputs": [],
   "source": [
    "valuesS = array(sent)"
   ]
  },
  {
   "cell_type": "code",
   "execution_count": 141,
   "metadata": {},
   "outputs": [
    {
     "name": "stderr",
     "output_type": "stream",
     "text": [
      "/usr/local/lib/python3.6/dist-packages/sklearn/preprocessing/_encoders.py:415: FutureWarning: The handling of integer data will change in version 0.22. Currently, the categories are determined based on the range [0, max(values)], while in the future they will be determined based on the unique values.\n",
      "If you want the future behaviour and silence this warning, you can specify \"categories='auto'\".\n",
      "In case you used a LabelEncoder before this OneHotEncoder to convert the categories to integers, then you can now use the OneHotEncoder directly.\n",
      "  warnings.warn(msg, FutureWarning)\n"
     ]
    }
   ],
   "source": [
    "label_encoderS = LabelEncoder()\n",
    "integer_encodedS = label_encoderS.fit_transform(valuesS)\n",
    "\n",
    "onehot_encoderS = OneHotEncoder(sparse=False)\n",
    "integer_encodedS = integer_encodedS.reshape(len(integer_encodedS), 1)\n",
    "onehot_encodedS = onehot_encoderS.fit_transform(integer_encodedS)"
   ]
  },
  {
   "cell_type": "code",
   "execution_count": 149,
   "metadata": {},
   "outputs": [
    {
     "data": {
      "text/plain": [
       "array([0., 1., 0.])"
      ]
     },
     "execution_count": 149,
     "metadata": {},
     "output_type": "execute_result"
    }
   ],
   "source": [
    "onehot_encodedS[-7]"
   ]
  },
  {
   "cell_type": "code",
   "execution_count": 150,
   "metadata": {},
   "outputs": [],
   "source": [
    "for i in range(0, len(reviewsCA)):\n",
    "    reviewsCA[i].update({'hotSentiment':list(onehot_encodedS[i])})"
   ]
  },
  {
   "cell_type": "code",
   "execution_count": 151,
   "metadata": {},
   "outputs": [
    {
     "data": {
      "text/plain": [
       "{'rating': 5.0,\n",
       " 'reviewerName': 'william spindler',\n",
       " 'reviewText': 'Long time favorite Mexican food, always consistent and great tasting.',\n",
       " 'categories': ['Mexican Restaurant'],\n",
       " 'gPlusPlaceId': '115827996910815192564',\n",
       " 'unixReviewTime': 1394669713,\n",
       " 'reviewTime': 'Mar 12, 2014',\n",
       " 'gPlusUserId': '100000032416892623125',\n",
       " 'gps': [[40.175064, -122.242574]],\n",
       " 'price': ['$$'],\n",
       " 'reviewLength': 69,\n",
       " 'reviewHour': 0,\n",
       " 'hotHour': [1.0,\n",
       "  0.0,\n",
       "  0.0,\n",
       "  0.0,\n",
       "  0.0,\n",
       "  0.0,\n",
       "  0.0,\n",
       "  0.0,\n",
       "  0.0,\n",
       "  0.0,\n",
       "  0.0,\n",
       "  0.0,\n",
       "  0.0,\n",
       "  0.0,\n",
       "  0.0,\n",
       "  0.0,\n",
       "  0.0,\n",
       "  0.0,\n",
       "  0.0,\n",
       "  0.0,\n",
       "  0.0,\n",
       "  0.0,\n",
       "  0.0,\n",
       "  0.0],\n",
       " 'hotPrice': [0.0, 1.0, 0.0],\n",
       " 'priceRank': 2,\n",
       " 'reviewSentiment': 'positive',\n",
       " 'hotSentiment': [0.0, 0.0, 1.0]}"
      ]
     },
     "execution_count": 151,
     "metadata": {},
     "output_type": "execute_result"
    }
   ],
   "source": [
    "reviewsCA[2]"
   ]
  },
  {
   "cell_type": "code",
   "execution_count": 152,
   "metadata": {},
   "outputs": [],
   "source": [
    "def feature(datum):\n",
    "    feat = []\n",
    "    feat.append(1)\n",
    "    feat.append(datum['reviewLength'])\n",
    "    for l in datum['hotHour'] + datum['hotPrice'] + datum['hotSentiment']:\n",
    "        feat.append(l)\n",
    "    return feat"
   ]
  },
  {
   "cell_type": "code",
   "execution_count": 153,
   "metadata": {},
   "outputs": [],
   "source": [
    "X = [feature(d) for d in reviewsCA]\n",
    "y = [d['rating'] for d in reviewsCA]"
   ]
  },
  {
   "cell_type": "code",
   "execution_count": 154,
   "metadata": {
    "collapsed": true,
    "jupyter": {
     "outputs_hidden": true
    }
   },
   "outputs": [
    {
     "data": {
      "text/plain": [
       "[1,\n",
       " 69,\n",
       " 1.0,\n",
       " 0.0,\n",
       " 0.0,\n",
       " 0.0,\n",
       " 0.0,\n",
       " 0.0,\n",
       " 0.0,\n",
       " 0.0,\n",
       " 0.0,\n",
       " 0.0,\n",
       " 0.0,\n",
       " 0.0,\n",
       " 0.0,\n",
       " 0.0,\n",
       " 0.0,\n",
       " 0.0,\n",
       " 0.0,\n",
       " 0.0,\n",
       " 0.0,\n",
       " 0.0,\n",
       " 0.0,\n",
       " 0.0,\n",
       " 0.0,\n",
       " 0.0,\n",
       " 0.0,\n",
       " 1.0,\n",
       " 0.0,\n",
       " 0.0,\n",
       " 0.0,\n",
       " 1.0]"
      ]
     },
     "execution_count": 154,
     "metadata": {},
     "output_type": "execute_result"
    }
   ],
   "source": [
    "X[2]"
   ]
  },
  {
   "cell_type": "code",
   "execution_count": 155,
   "metadata": {},
   "outputs": [],
   "source": [
    "Xtrain = X[:int(0.8*len(X))]\n",
    "Xvalid = X[int(0.8*len(X)):int(0.9*len(X))]\n",
    "Xtest = X[int(0.9*len(X)):]\n",
    "\n",
    "ytrain = y[:int(0.8*len(y))]\n",
    "yvalid = y[int(0.8*len(y)):int(0.9*len(y))]\n",
    "ytest = y[int(0.9*len(y)):]"
   ]
  },
  {
   "cell_type": "code",
   "execution_count": 156,
   "metadata": {},
   "outputs": [],
   "source": [
    "clf = linear_model.Ridge(1, fit_intercept=False)\n",
    "clf.fit(Xtrain, ytrain)\n",
    "theta = clf.coef_\n",
    "pred_ytrain = clf.predict(Xtrain)"
   ]
  },
  {
   "cell_type": "code",
   "execution_count": 157,
   "metadata": {},
   "outputs": [
    {
     "data": {
      "text/plain": [
       "1.0154684598335826"
      ]
     },
     "execution_count": 157,
     "metadata": {},
     "output_type": "execute_result"
    }
   ],
   "source": [
    "MSEtrain = mean_squared_error(ytrain, pred_ytrain)\n",
    "MSEtrain"
   ]
  },
  {
   "cell_type": "code",
   "execution_count": 158,
   "metadata": {},
   "outputs": [
    {
     "data": {
      "text/plain": [
       "1.0191316967320767"
      ]
     },
     "execution_count": 158,
     "metadata": {},
     "output_type": "execute_result"
    }
   ],
   "source": [
    "pred_yvalid = clf.predict(Xvalid)\n",
    "MSEvalid = mean_squared_error(yvalid, pred_yvalid)\n",
    "MSEvalid"
   ]
  },
  {
   "cell_type": "code",
   "execution_count": 159,
   "metadata": {},
   "outputs": [
    {
     "data": {
      "text/plain": [
       "1.0158644305913098"
      ]
     },
     "execution_count": 159,
     "metadata": {},
     "output_type": "execute_result"
    }
   ],
   "source": [
    "pred_ytest = clf.predict(Xtest)\n",
    "MSEtest = mean_squared_error(ytest, pred_ytest)\n",
    "MSEtest"
   ]
  },
  {
   "cell_type": "markdown",
   "metadata": {},
   "source": [
    "### 修改Advanced Model 1 用one hot encoding on price and hour"
   ]
  },
  {
   "cell_type": "code",
   "execution_count": null,
   "metadata": {},
   "outputs": [],
   "source": [
    "data = ['0', '1', '2', '3', '4', '5', '6', '7', '8', '9', '10', '11', '12']\n",
    "values = array(data)"
   ]
  },
  {
   "cell_type": "code",
   "execution_count": null,
   "metadata": {},
   "outputs": [],
   "source": [
    "values"
   ]
  },
  {
   "cell_type": "code",
   "execution_count": null,
   "metadata": {},
   "outputs": [],
   "source": [
    "label_encoder = LabelEncoder()\n",
    "integer_encoded = label_encoder.fit_transform(values)\n",
    "print(integer_encoded)"
   ]
  },
  {
   "cell_type": "code",
   "execution_count": null,
   "metadata": {},
   "outputs": [],
   "source": [
    "onehot_encoder = OneHotEncoder(sparse=False)\n",
    "integer_encoded = integer_encoded.reshape(len(integer_encoded), 1)\n",
    "onehot_encoded = onehot_encoder.fit_transform(integer_encoded)\n",
    "print(onehot_encoded)"
   ]
  },
  {
   "cell_type": "code",
   "execution_count": null,
   "metadata": {},
   "outputs": [],
   "source": [
    "inverted = label_encoder.inverse_transform([argmax(onehot_encoded[0, :])])\n",
    "print(inverted)"
   ]
  },
  {
   "cell_type": "code",
   "execution_count": 72,
   "metadata": {},
   "outputs": [],
   "source": [
    "for i in range(0, len(reviewsCA)):\n",
    "    reviewsCA[i].update({'reviewLength':len(reviewsCA[i]['reviewText'])})\n",
    "    reviewsCA[i].update({'reviewHour':datetime.utcfromtimestamp(reviewsCA[i]['unixReviewTime']).strftime('%Y-%m-%d %H:%M:%S')[11:13]})"
   ]
  },
  {
   "cell_type": "code",
   "execution_count": 73,
   "metadata": {},
   "outputs": [
    {
     "data": {
      "text/plain": [
       "{'rating': 5.0,\n",
       " 'reviewerName': 'william spindler',\n",
       " 'reviewText': 'Long time favorite Mexican food, always consistent and great tasting.',\n",
       " 'categories': ['Mexican Restaurant'],\n",
       " 'gPlusPlaceId': '115827996910815192564',\n",
       " 'unixReviewTime': 1394669713,\n",
       " 'reviewTime': 'Mar 12, 2014',\n",
       " 'gPlusUserId': '100000032416892623125',\n",
       " 'gps': [[40.175064, -122.242574]],\n",
       " 'price': ['$$'],\n",
       " 'reviewLength': 69,\n",
       " 'reviewHour': '00',\n",
       " 'hotHour': [0.0, 1.0, 0.0],\n",
       " 'hotPrice': [0.0, 1.0, 0.0]}"
      ]
     },
     "execution_count": 73,
     "metadata": {},
     "output_type": "execute_result"
    }
   ],
   "source": [
    "reviewsCA[2]"
   ]
  },
  {
   "cell_type": "code",
   "execution_count": 74,
   "metadata": {},
   "outputs": [],
   "source": [
    "hour = []\n",
    "for d in reviewsCA:\n",
    "    hour.append(d['reviewHour'])"
   ]
  },
  {
   "cell_type": "code",
   "execution_count": 75,
   "metadata": {},
   "outputs": [
    {
     "data": {
      "text/plain": [
       "76254"
      ]
     },
     "execution_count": 75,
     "metadata": {},
     "output_type": "execute_result"
    }
   ],
   "source": [
    "len(hour)"
   ]
  },
  {
   "cell_type": "code",
   "execution_count": 76,
   "metadata": {},
   "outputs": [
    {
     "data": {
      "text/plain": [
       "['00', '19', '00', '19', '01', '04', '20', '20', '18', '02']"
      ]
     },
     "execution_count": 76,
     "metadata": {},
     "output_type": "execute_result"
    }
   ],
   "source": [
    "hour[:10]"
   ]
  },
  {
   "cell_type": "code",
   "execution_count": 77,
   "metadata": {},
   "outputs": [],
   "source": [
    "values = array(hour)"
   ]
  },
  {
   "cell_type": "code",
   "execution_count": 78,
   "metadata": {},
   "outputs": [
    {
     "name": "stderr",
     "output_type": "stream",
     "text": [
      "/usr/local/lib/python3.6/dist-packages/sklearn/preprocessing/_encoders.py:415: FutureWarning: The handling of integer data will change in version 0.22. Currently, the categories are determined based on the range [0, max(values)], while in the future they will be determined based on the unique values.\n",
      "If you want the future behaviour and silence this warning, you can specify \"categories='auto'\".\n",
      "In case you used a LabelEncoder before this OneHotEncoder to convert the categories to integers, then you can now use the OneHotEncoder directly.\n",
      "  warnings.warn(msg, FutureWarning)\n"
     ]
    }
   ],
   "source": [
    "label_encoder = LabelEncoder()\n",
    "integer_encoded = label_encoder.fit_transform(values)\n",
    "\n",
    "onehot_encoder = OneHotEncoder(sparse=False)\n",
    "integer_encoded = integer_encoded.reshape(len(integer_encoded), 1)\n",
    "onehot_encoded = onehot_encoder.fit_transform(integer_encoded)"
   ]
  },
  {
   "cell_type": "code",
   "execution_count": 79,
   "metadata": {},
   "outputs": [
    {
     "data": {
      "text/plain": [
       "array([0., 1., 0., 0., 0., 0., 0., 0., 0., 0., 0., 0., 0., 0., 0., 0., 0.,\n",
       "       0., 0., 0., 0., 0., 0., 0.])"
      ]
     },
     "execution_count": 79,
     "metadata": {},
     "output_type": "execute_result"
    }
   ],
   "source": [
    "onehot_encoded[76253]"
   ]
  },
  {
   "cell_type": "code",
   "execution_count": 80,
   "metadata": {},
   "outputs": [],
   "source": [
    "for i in range(0, len(reviewsCA)):\n",
    "    reviewsCA[i].update({'hotHour':list(onehot_encoded[i])})"
   ]
  },
  {
   "cell_type": "code",
   "execution_count": 81,
   "metadata": {},
   "outputs": [
    {
     "data": {
      "text/plain": [
       "{'rating': 3.0,\n",
       " 'reviewerName': 'William Corcuera',\n",
       " 'reviewText': 'Finally came back to this place after so many years, atmosphere was ok anyways I ordered two shrimp tacos and a lobster taco. My shrimp tacos had about only 2-3 shrimps the rest was soggy bell peppers and a broken up corn tortilla, my lobster taco was a lil better.',\n",
       " 'categories': ['Latin American Restaurant',\n",
       "  'Mexican Restaurant',\n",
       "  'Seafood Restaurant'],\n",
       " 'gPlusPlaceId': '101788547508969264434',\n",
       " 'unixReviewTime': 1347079555,\n",
       " 'reviewTime': 'Sep 7, 2012',\n",
       " 'gPlusUserId': '100000122158721897485',\n",
       " 'gps': [[33.20043, -117.331493]],\n",
       " 'price': ['$$$'],\n",
       " 'reviewLength': 265,\n",
       " 'reviewHour': '04',\n",
       " 'hotHour': [0.0,\n",
       "  0.0,\n",
       "  0.0,\n",
       "  0.0,\n",
       "  1.0,\n",
       "  0.0,\n",
       "  0.0,\n",
       "  0.0,\n",
       "  0.0,\n",
       "  0.0,\n",
       "  0.0,\n",
       "  0.0,\n",
       "  0.0,\n",
       "  0.0,\n",
       "  0.0,\n",
       "  0.0,\n",
       "  0.0,\n",
       "  0.0,\n",
       "  0.0,\n",
       "  0.0,\n",
       "  0.0,\n",
       "  0.0,\n",
       "  0.0,\n",
       "  0.0],\n",
       " 'hotPrice': [0.0, 0.0, 1.0]}"
      ]
     },
     "execution_count": 81,
     "metadata": {},
     "output_type": "execute_result"
    }
   ],
   "source": [
    "reviewsCA[5]"
   ]
  },
  {
   "cell_type": "code",
   "execution_count": 82,
   "metadata": {},
   "outputs": [],
   "source": [
    "price = []\n",
    "for d in reviewsCA:\n",
    "    price.append(d['price'])"
   ]
  },
  {
   "cell_type": "code",
   "execution_count": 83,
   "metadata": {},
   "outputs": [
    {
     "data": {
      "text/plain": [
       "76254"
      ]
     },
     "execution_count": 83,
     "metadata": {},
     "output_type": "execute_result"
    }
   ],
   "source": [
    "len(price)"
   ]
  },
  {
   "cell_type": "code",
   "execution_count": 84,
   "metadata": {},
   "outputs": [
    {
     "data": {
      "text/plain": [
       "[['$$$'],\n",
       " ['$$'],\n",
       " ['$$'],\n",
       " ['$$$'],\n",
       " ['$$'],\n",
       " ['$$$'],\n",
       " ['$$$'],\n",
       " ['$$$'],\n",
       " ['$$'],\n",
       " ['$$']]"
      ]
     },
     "execution_count": 84,
     "metadata": {},
     "output_type": "execute_result"
    }
   ],
   "source": [
    "price[:10]"
   ]
  },
  {
   "cell_type": "code",
   "execution_count": 85,
   "metadata": {},
   "outputs": [],
   "source": [
    "valuesP = array(price)"
   ]
  },
  {
   "cell_type": "code",
   "execution_count": 86,
   "metadata": {},
   "outputs": [
    {
     "data": {
      "text/plain": [
       "array([['$$$'],\n",
       "       ['$$'],\n",
       "       ['$$'],\n",
       "       ['$$$'],\n",
       "       ['$$'],\n",
       "       ['$$$'],\n",
       "       ['$$$'],\n",
       "       ['$$$'],\n",
       "       ['$$'],\n",
       "       ['$$']], dtype='<U3')"
      ]
     },
     "execution_count": 86,
     "metadata": {},
     "output_type": "execute_result"
    }
   ],
   "source": [
    "valuesP[:10]"
   ]
  },
  {
   "cell_type": "code",
   "execution_count": 87,
   "metadata": {},
   "outputs": [
    {
     "name": "stderr",
     "output_type": "stream",
     "text": [
      "/usr/local/lib/python3.6/dist-packages/sklearn/preprocessing/label.py:235: DataConversionWarning: A column-vector y was passed when a 1d array was expected. Please change the shape of y to (n_samples, ), for example using ravel().\n",
      "  y = column_or_1d(y, warn=True)\n",
      "/usr/local/lib/python3.6/dist-packages/sklearn/preprocessing/_encoders.py:415: FutureWarning: The handling of integer data will change in version 0.22. Currently, the categories are determined based on the range [0, max(values)], while in the future they will be determined based on the unique values.\n",
      "If you want the future behaviour and silence this warning, you can specify \"categories='auto'\".\n",
      "In case you used a LabelEncoder before this OneHotEncoder to convert the categories to integers, then you can now use the OneHotEncoder directly.\n",
      "  warnings.warn(msg, FutureWarning)\n"
     ]
    }
   ],
   "source": [
    "label_encoderP = LabelEncoder()\n",
    "integer_encodedP = label_encoderP.fit_transform(valuesP)\n",
    "\n",
    "onehot_encoderP = OneHotEncoder(sparse=False)\n",
    "integer_encodedP = integer_encodedP.reshape(len(integer_encodedP), 1)\n",
    "onehot_encodedP = onehot_encoderP.fit_transform(integer_encodedP)"
   ]
  },
  {
   "cell_type": "code",
   "execution_count": 89,
   "metadata": {},
   "outputs": [
    {
     "data": {
      "text/plain": [
       "76254"
      ]
     },
     "execution_count": 89,
     "metadata": {},
     "output_type": "execute_result"
    }
   ],
   "source": [
    "len(onehot_encodedP)"
   ]
  },
  {
   "cell_type": "code",
   "execution_count": 90,
   "metadata": {},
   "outputs": [
    {
     "data": {
      "text/plain": [
       "array([[0., 0., 1.],\n",
       "       [0., 1., 0.],\n",
       "       [0., 1., 0.],\n",
       "       [0., 0., 1.],\n",
       "       [0., 1., 0.],\n",
       "       [0., 0., 1.],\n",
       "       [0., 0., 1.],\n",
       "       [0., 0., 1.],\n",
       "       [0., 1., 0.],\n",
       "       [0., 1., 0.]])"
      ]
     },
     "execution_count": 90,
     "metadata": {},
     "output_type": "execute_result"
    }
   ],
   "source": [
    "onehot_encodedP[:10]"
   ]
  },
  {
   "cell_type": "code",
   "execution_count": 91,
   "metadata": {},
   "outputs": [],
   "source": [
    "for i in range(0, len(reviewsCA)):\n",
    "    reviewsCA[i].update({'hotPrice':list(onehot_encodedP[i])})"
   ]
  },
  {
   "cell_type": "code",
   "execution_count": 92,
   "metadata": {},
   "outputs": [
    {
     "data": {
      "text/plain": [
       "{'rating': 5.0,\n",
       " 'reviewerName': 'william spindler',\n",
       " 'reviewText': 'Long time favorite Mexican food, always consistent and great tasting.',\n",
       " 'categories': ['Mexican Restaurant'],\n",
       " 'gPlusPlaceId': '115827996910815192564',\n",
       " 'unixReviewTime': 1394669713,\n",
       " 'reviewTime': 'Mar 12, 2014',\n",
       " 'gPlusUserId': '100000032416892623125',\n",
       " 'gps': [[40.175064, -122.242574]],\n",
       " 'price': ['$$'],\n",
       " 'reviewLength': 69,\n",
       " 'reviewHour': '00',\n",
       " 'hotHour': [1.0,\n",
       "  0.0,\n",
       "  0.0,\n",
       "  0.0,\n",
       "  0.0,\n",
       "  0.0,\n",
       "  0.0,\n",
       "  0.0,\n",
       "  0.0,\n",
       "  0.0,\n",
       "  0.0,\n",
       "  0.0,\n",
       "  0.0,\n",
       "  0.0,\n",
       "  0.0,\n",
       "  0.0,\n",
       "  0.0,\n",
       "  0.0,\n",
       "  0.0,\n",
       "  0.0,\n",
       "  0.0,\n",
       "  0.0,\n",
       "  0.0,\n",
       "  0.0],\n",
       " 'hotPrice': [0.0, 1.0, 0.0]}"
      ]
     },
     "execution_count": 92,
     "metadata": {},
     "output_type": "execute_result"
    }
   ],
   "source": [
    "reviewsCA[2]"
   ]
  },
  {
   "cell_type": "code",
   "execution_count": 98,
   "metadata": {},
   "outputs": [],
   "source": [
    "def feature(datum):\n",
    "    feat = [0]*len(wordSet)\n",
    "    t = datum['reviewText']\n",
    "    t = t.lower()\n",
    "    t = [c for c in t if not (c in punct)]\n",
    "    t = ''.join(t)\n",
    "    words = t.strip().split()\n",
    "    for w in words:\n",
    "        if not (w in wordSet): continue\n",
    "        feat[wordId[w]] += 1\n",
    "    feat.append(1)\n",
    "    feat.append(datum['reviewLength'])\n",
    "    for l in datum['hotHour'] + datum['hotPrice']:\n",
    "        feat.append(l)\n",
    "    return feat"
   ]
  },
  {
   "cell_type": "code",
   "execution_count": 99,
   "metadata": {},
   "outputs": [],
   "source": [
    "X = [feature(d) for d in reviewsCA]\n",
    "y = [d['rating'] for d in reviewsCA]"
   ]
  },
  {
   "cell_type": "code",
   "execution_count": 102,
   "metadata": {
    "collapsed": true,
    "jupyter": {
     "outputs_hidden": true
    }
   },
   "outputs": [
    {
     "data": {
      "text/plain": [
       "[0,\n",
       " 0,\n",
       " 0,\n",
       " 0,\n",
       " 0,\n",
       " 0,\n",
       " 0,\n",
       " 0,\n",
       " 0,\n",
       " 0,\n",
       " 0,\n",
       " 0,\n",
       " 0,\n",
       " 0,\n",
       " 0,\n",
       " 0,\n",
       " 0,\n",
       " 0,\n",
       " 0,\n",
       " 0,\n",
       " 0,\n",
       " 1,\n",
       " 69,\n",
       " 1.0,\n",
       " 0.0,\n",
       " 0.0,\n",
       " 0.0,\n",
       " 0.0,\n",
       " 0.0,\n",
       " 0.0,\n",
       " 0.0,\n",
       " 0.0,\n",
       " 0.0,\n",
       " 0.0,\n",
       " 0.0,\n",
       " 0.0,\n",
       " 0.0,\n",
       " 0.0,\n",
       " 0.0,\n",
       " 0.0,\n",
       " 0.0,\n",
       " 0.0,\n",
       " 0.0,\n",
       " 0.0,\n",
       " 0.0,\n",
       " 0.0,\n",
       " 0.0,\n",
       " 0.0,\n",
       " 1.0,\n",
       " 0.0]"
      ]
     },
     "execution_count": 102,
     "metadata": {},
     "output_type": "execute_result"
    }
   ],
   "source": [
    "X[2][-50:]"
   ]
  },
  {
   "cell_type": "code",
   "execution_count": 103,
   "metadata": {},
   "outputs": [],
   "source": [
    "Xtrain = X[:int(0.8*len(X))]\n",
    "Xvalid = X[int(0.8*len(X)):int(0.9*len(X))]\n",
    "Xtest = X[int(0.9*len(X)):]\n",
    "\n",
    "ytrain = y[:int(0.8*len(y))]\n",
    "yvalid = y[int(0.8*len(y)):int(0.9*len(y))]\n",
    "ytest = y[int(0.9*len(y)):]"
   ]
  },
  {
   "cell_type": "code",
   "execution_count": 107,
   "metadata": {},
   "outputs": [],
   "source": [
    "clf = linear_model.Ridge(1, fit_intercept=False)\n",
    "clf.fit(Xtrain, ytrain)\n",
    "theta = clf.coef_\n",
    "pred_ytrain = clf.predict(Xtrain)"
   ]
  },
  {
   "cell_type": "code",
   "execution_count": 108,
   "metadata": {},
   "outputs": [
    {
     "data": {
      "text/plain": [
       "0.8414252409564961"
      ]
     },
     "execution_count": 108,
     "metadata": {},
     "output_type": "execute_result"
    }
   ],
   "source": [
    "MSEtrain = mean_squared_error(ytrain, pred_ytrain)\n",
    "MSEtrain"
   ]
  },
  {
   "cell_type": "code",
   "execution_count": 109,
   "metadata": {},
   "outputs": [
    {
     "data": {
      "text/plain": [
       "0.8856883012161867"
      ]
     },
     "execution_count": 109,
     "metadata": {},
     "output_type": "execute_result"
    }
   ],
   "source": [
    "pred_yvalid = clf.predict(Xvalid)\n",
    "MSEvalid = mean_squared_error(yvalid, pred_yvalid)\n",
    "MSEvalid"
   ]
  },
  {
   "cell_type": "code",
   "execution_count": 110,
   "metadata": {},
   "outputs": [
    {
     "data": {
      "text/plain": [
       "0.8514769098811863"
      ]
     },
     "execution_count": 110,
     "metadata": {},
     "output_type": "execute_result"
    }
   ],
   "source": [
    "pred_ytest = clf.predict(Xtest)\n",
    "MSEtest = mean_squared_error(ytest, pred_ytest)\n",
    "MSEtest"
   ]
  },
  {
   "cell_type": "markdown",
   "metadata": {},
   "source": [
    "### Advanced Model 6 f(word vector, review length, hour, price) -> rating one hot for hour, continuous for price"
   ]
  },
  {
   "cell_type": "code",
   "execution_count": 160,
   "metadata": {},
   "outputs": [
    {
     "data": {
      "text/plain": [
       "{'rating': 5.0,\n",
       " 'reviewerName': 'william spindler',\n",
       " 'reviewText': 'Long time favorite Mexican food, always consistent and great tasting.',\n",
       " 'categories': ['Mexican Restaurant'],\n",
       " 'gPlusPlaceId': '115827996910815192564',\n",
       " 'unixReviewTime': 1394669713,\n",
       " 'reviewTime': 'Mar 12, 2014',\n",
       " 'gPlusUserId': '100000032416892623125',\n",
       " 'gps': [[40.175064, -122.242574]],\n",
       " 'price': ['$$'],\n",
       " 'reviewLength': 69,\n",
       " 'reviewHour': 0,\n",
       " 'hotHour': [1.0,\n",
       "  0.0,\n",
       "  0.0,\n",
       "  0.0,\n",
       "  0.0,\n",
       "  0.0,\n",
       "  0.0,\n",
       "  0.0,\n",
       "  0.0,\n",
       "  0.0,\n",
       "  0.0,\n",
       "  0.0,\n",
       "  0.0,\n",
       "  0.0,\n",
       "  0.0,\n",
       "  0.0,\n",
       "  0.0,\n",
       "  0.0,\n",
       "  0.0,\n",
       "  0.0,\n",
       "  0.0,\n",
       "  0.0,\n",
       "  0.0,\n",
       "  0.0],\n",
       " 'hotPrice': [0.0, 1.0, 0.0],\n",
       " 'priceRank': 2,\n",
       " 'reviewSentiment': 'positive',\n",
       " 'hotSentiment': [0.0, 0.0, 1.0]}"
      ]
     },
     "execution_count": 160,
     "metadata": {},
     "output_type": "execute_result"
    }
   ],
   "source": [
    "reviewsCA[2]"
   ]
  },
  {
   "cell_type": "code",
   "execution_count": 161,
   "metadata": {},
   "outputs": [
    {
     "data": {
      "text/plain": [
       "1000"
      ]
     },
     "execution_count": 161,
     "metadata": {},
     "output_type": "execute_result"
    }
   ],
   "source": [
    "len(wordSet)"
   ]
  },
  {
   "cell_type": "code",
   "execution_count": 164,
   "metadata": {},
   "outputs": [],
   "source": [
    "def feature(datum):\n",
    "    feat = [0]*len(wordSet)\n",
    "    t = datum['reviewText']\n",
    "    t = t.lower()\n",
    "    t = [c for c in t if not (c in punct)]\n",
    "    t = ''.join(t)\n",
    "    words = t.strip().split()\n",
    "    for w in words:\n",
    "        if not (w in wordSet): continue\n",
    "        feat[wordId[w]] += 1\n",
    "    feat.append(1)\n",
    "    feat.append(datum['reviewLength'])\n",
    "    feat.append(datum['priceRank'])\n",
    "    for l in datum['hotHour']:\n",
    "        feat.append(l)\n",
    "    return feat"
   ]
  },
  {
   "cell_type": "code",
   "execution_count": 165,
   "metadata": {},
   "outputs": [],
   "source": [
    "X = [feature(d) for d in reviewsCA]\n",
    "y = [d['rating'] for d in reviewsCA]"
   ]
  },
  {
   "cell_type": "code",
   "execution_count": 169,
   "metadata": {
    "collapsed": true,
    "jupyter": {
     "outputs_hidden": true
    }
   },
   "outputs": [
    {
     "data": {
      "text/plain": [
       "[0,\n",
       " 0,\n",
       " 0,\n",
       " 0,\n",
       " 0,\n",
       " 0,\n",
       " 0,\n",
       " 0,\n",
       " 0,\n",
       " 0,\n",
       " 0,\n",
       " 0,\n",
       " 0,\n",
       " 0,\n",
       " 0,\n",
       " 0,\n",
       " 0,\n",
       " 0,\n",
       " 0,\n",
       " 0,\n",
       " 0,\n",
       " 0,\n",
       " 0,\n",
       " 1,\n",
       " 69,\n",
       " 2,\n",
       " 1.0,\n",
       " 0.0,\n",
       " 0.0,\n",
       " 0.0,\n",
       " 0.0,\n",
       " 0.0,\n",
       " 0.0,\n",
       " 0.0,\n",
       " 0.0,\n",
       " 0.0,\n",
       " 0.0,\n",
       " 0.0,\n",
       " 0.0,\n",
       " 0.0,\n",
       " 0.0,\n",
       " 0.0,\n",
       " 0.0,\n",
       " 0.0,\n",
       " 0.0,\n",
       " 0.0,\n",
       " 0.0,\n",
       " 0.0,\n",
       " 0.0,\n",
       " 0.0]"
      ]
     },
     "execution_count": 169,
     "metadata": {},
     "output_type": "execute_result"
    }
   ],
   "source": [
    "X[2][-50:]"
   ]
  },
  {
   "cell_type": "code",
   "execution_count": 170,
   "metadata": {},
   "outputs": [],
   "source": [
    "Xtrain = X[:int(0.8*len(X))]\n",
    "Xvalid = X[int(0.8*len(X)):int(0.9*len(X))]\n",
    "Xtest = X[int(0.9*len(X)):]\n",
    "\n",
    "ytrain = y[:int(0.8*len(y))]\n",
    "yvalid = y[int(0.8*len(y)):int(0.9*len(y))]\n",
    "ytest = y[int(0.9*len(y)):]"
   ]
  },
  {
   "cell_type": "code",
   "execution_count": 171,
   "metadata": {},
   "outputs": [],
   "source": [
    "clf = linear_model.Ridge(1, fit_intercept=False)\n",
    "clf.fit(Xtrain, ytrain)\n",
    "theta = clf.coef_\n",
    "pred_ytrain = clf.predict(Xtrain)"
   ]
  },
  {
   "cell_type": "code",
   "execution_count": 172,
   "metadata": {},
   "outputs": [
    {
     "data": {
      "text/plain": [
       "0.8416214555170666"
      ]
     },
     "execution_count": 172,
     "metadata": {},
     "output_type": "execute_result"
    }
   ],
   "source": [
    "MSEtrain = mean_squared_error(ytrain, pred_ytrain)\n",
    "MSEtrain"
   ]
  },
  {
   "cell_type": "code",
   "execution_count": 173,
   "metadata": {},
   "outputs": [
    {
     "data": {
      "text/plain": [
       "0.8857318968965592"
      ]
     },
     "execution_count": 173,
     "metadata": {},
     "output_type": "execute_result"
    }
   ],
   "source": [
    "pred_yvalid = clf.predict(Xvalid)\n",
    "MSEvalid = mean_squared_error(yvalid, pred_yvalid)\n",
    "MSEvalid"
   ]
  },
  {
   "cell_type": "code",
   "execution_count": 174,
   "metadata": {},
   "outputs": [
    {
     "data": {
      "text/plain": [
       "0.8518571481258606"
      ]
     },
     "execution_count": 174,
     "metadata": {},
     "output_type": "execute_result"
    }
   ],
   "source": [
    "pred_ytest = clf.predict(Xtest)\n",
    "MSEtest = mean_squared_error(ytest, pred_ytest)\n",
    "MSEtest"
   ]
  },
  {
   "cell_type": "markdown",
   "metadata": {},
   "source": [
    "### Sentiment"
   ]
  },
  {
   "cell_type": "code",
   "execution_count": 175,
   "metadata": {},
   "outputs": [],
   "source": [
    "def feature(datum):\n",
    "    feat = []\n",
    "    feat.append(1)\n",
    "    feat.append(datum['reviewLength'])\n",
    "    feat.append(datum['priceRank'])\n",
    "    for l in datum['hotHour'] + datum['hotSentiment']:\n",
    "        feat.append(l)\n",
    "    return feat"
   ]
  },
  {
   "cell_type": "code",
   "execution_count": 176,
   "metadata": {},
   "outputs": [],
   "source": [
    "X = [feature(d) for d in reviewsCA]\n",
    "y = [d['rating'] for d in reviewsCA]"
   ]
  },
  {
   "cell_type": "code",
   "execution_count": 178,
   "metadata": {},
   "outputs": [
    {
     "data": {
      "text/plain": [
       "{'rating': 5.0,\n",
       " 'reviewerName': 'william spindler',\n",
       " 'reviewText': 'Long time favorite Mexican food, always consistent and great tasting.',\n",
       " 'categories': ['Mexican Restaurant'],\n",
       " 'gPlusPlaceId': '115827996910815192564',\n",
       " 'unixReviewTime': 1394669713,\n",
       " 'reviewTime': 'Mar 12, 2014',\n",
       " 'gPlusUserId': '100000032416892623125',\n",
       " 'gps': [[40.175064, -122.242574]],\n",
       " 'price': ['$$'],\n",
       " 'reviewLength': 69,\n",
       " 'reviewHour': 0,\n",
       " 'hotHour': [1.0,\n",
       "  0.0,\n",
       "  0.0,\n",
       "  0.0,\n",
       "  0.0,\n",
       "  0.0,\n",
       "  0.0,\n",
       "  0.0,\n",
       "  0.0,\n",
       "  0.0,\n",
       "  0.0,\n",
       "  0.0,\n",
       "  0.0,\n",
       "  0.0,\n",
       "  0.0,\n",
       "  0.0,\n",
       "  0.0,\n",
       "  0.0,\n",
       "  0.0,\n",
       "  0.0,\n",
       "  0.0,\n",
       "  0.0,\n",
       "  0.0,\n",
       "  0.0],\n",
       " 'hotPrice': [0.0, 1.0, 0.0],\n",
       " 'priceRank': 2,\n",
       " 'reviewSentiment': 'positive',\n",
       " 'hotSentiment': [0.0, 0.0, 1.0]}"
      ]
     },
     "execution_count": 178,
     "metadata": {},
     "output_type": "execute_result"
    }
   ],
   "source": [
    "reviewsCA[2]"
   ]
  },
  {
   "cell_type": "code",
   "execution_count": 177,
   "metadata": {},
   "outputs": [
    {
     "data": {
      "text/plain": [
       "[1,\n",
       " 69,\n",
       " 2,\n",
       " 1.0,\n",
       " 0.0,\n",
       " 0.0,\n",
       " 0.0,\n",
       " 0.0,\n",
       " 0.0,\n",
       " 0.0,\n",
       " 0.0,\n",
       " 0.0,\n",
       " 0.0,\n",
       " 0.0,\n",
       " 0.0,\n",
       " 0.0,\n",
       " 0.0,\n",
       " 0.0,\n",
       " 0.0,\n",
       " 0.0,\n",
       " 0.0,\n",
       " 0.0,\n",
       " 0.0,\n",
       " 0.0,\n",
       " 0.0,\n",
       " 0.0,\n",
       " 0.0,\n",
       " 0.0,\n",
       " 0.0,\n",
       " 1.0]"
      ]
     },
     "execution_count": 177,
     "metadata": {},
     "output_type": "execute_result"
    }
   ],
   "source": [
    "X[2]"
   ]
  },
  {
   "cell_type": "code",
   "execution_count": 179,
   "metadata": {},
   "outputs": [],
   "source": [
    "Xtrain = X[:int(0.8*len(X))]\n",
    "Xvalid = X[int(0.8*len(X)):int(0.9*len(X))]\n",
    "Xtest = X[int(0.9*len(X)):]\n",
    "\n",
    "ytrain = y[:int(0.8*len(y))]\n",
    "yvalid = y[int(0.8*len(y)):int(0.9*len(y))]\n",
    "ytest = y[int(0.9*len(y)):]"
   ]
  },
  {
   "cell_type": "code",
   "execution_count": 180,
   "metadata": {},
   "outputs": [],
   "source": [
    "clf = linear_model.Ridge(1, fit_intercept=False)\n",
    "clf.fit(Xtrain, ytrain)\n",
    "theta = clf.coef_\n",
    "pred_ytrain = clf.predict(Xtrain)"
   ]
  },
  {
   "cell_type": "code",
   "execution_count": 181,
   "metadata": {},
   "outputs": [
    {
     "data": {
      "text/plain": [
       "1.015706330170869"
      ]
     },
     "execution_count": 181,
     "metadata": {},
     "output_type": "execute_result"
    }
   ],
   "source": [
    "MSEtrain = mean_squared_error(ytrain, pred_ytrain)\n",
    "MSEtrain"
   ]
  },
  {
   "cell_type": "code",
   "execution_count": 182,
   "metadata": {},
   "outputs": [
    {
     "data": {
      "text/plain": [
       "1.0194616205795126"
      ]
     },
     "execution_count": 182,
     "metadata": {},
     "output_type": "execute_result"
    }
   ],
   "source": [
    "pred_yvalid = clf.predict(Xvalid)\n",
    "MSEvalid = mean_squared_error(yvalid, pred_yvalid)\n",
    "MSEvalid"
   ]
  }
 ],
 "metadata": {
  "kernelspec": {
   "display_name": "Python 3",
   "language": "python",
   "name": "python3"
  },
  "language_info": {
   "codemirror_mode": {
    "name": "ipython",
    "version": 3
   },
   "file_extension": ".py",
   "mimetype": "text/x-python",
   "name": "python",
   "nbconvert_exporter": "python",
   "pygments_lexer": "ipython3",
   "version": "3.6.8"
  }
 },
 "nbformat": 4,
 "nbformat_minor": 4
}
