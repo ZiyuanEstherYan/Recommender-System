{
 "cells": [
  {
   "cell_type": "markdown",
   "metadata": {},
   "source": [
    "## Ridge Regression"
   ]
  },
  {
   "cell_type": "code",
   "execution_count": 3,
   "metadata": {},
   "outputs": [
    {
     "name": "stderr",
     "output_type": "stream",
     "text": [
      "[nltk_data] Downloading package stopwords to /home/jovyan/nltk_data...\n",
      "[nltk_data]   Package stopwords is already up-to-date!\n"
     ]
    }
   ],
   "source": [
    "import gzip\n",
    "import pandas as pd\n",
    "import goslate\n",
    "import json\n",
    "import requests\n",
    "\n",
    "import nltk\n",
    "import string\n",
    "from nltk.stem.porter import *\n",
    "from nltk.corpus import stopwords\n",
    "nltk.download('stopwords')\n",
    "from sklearn import linear_model\n",
    "from collections import defaultdict\n",
    "from datetime import datetime\n",
    "import matplotlib.pyplot as plt"
   ]
  },
  {
   "cell_type": "code",
   "execution_count": 4,
   "metadata": {},
   "outputs": [],
   "source": [
    "data_places = []\n",
    "data_reviews = []\n",
    "with gzip.open('google_local/places.clean.json.gz') as f:\n",
    "    for l in f:\n",
    "        data_places.append(eval(l))"
   ]
  },
  {
   "cell_type": "code",
   "execution_count": 5,
   "metadata": {},
   "outputs": [
    {
     "data": {
      "text/plain": [
       "(3114353,\n",
       " [{'name': 'Diamond Valley Lake Marina',\n",
       "   'price': None,\n",
       "   'address': ['2615 Angler Ave', 'Hemet, CA 92545'],\n",
       "   'hours': [['Monday', [['6:30 am--4:15 pm']]],\n",
       "    ['Tuesday', [['6:30 am--4:15 pm']]],\n",
       "    ['Wednesday', [['6:30 am--4:15 pm']], 1],\n",
       "    ['Thursday', [['6:30 am--4:15 pm']]],\n",
       "    ['Friday', [['6:30 am--4:15 pm']]],\n",
       "    ['Saturday', [['6:30 am--4:15 pm']]],\n",
       "    ['Sunday', [['6:30 am--4:15 pm']]]],\n",
       "   'phone': '(951) 926-7201',\n",
       "   'closed': False,\n",
       "   'gPlusPlaceId': '104699454385822125632',\n",
       "   'gps': [33.703804, -117.003209]}])"
      ]
     },
     "execution_count": 5,
     "metadata": {},
     "output_type": "execute_result"
    }
   ],
   "source": [
    "len(data_places), data_places[:1]"
   ]
  },
  {
   "cell_type": "code",
   "execution_count": 6,
   "metadata": {},
   "outputs": [],
   "source": [
    "N = 4000000\n",
    "data_reviews = []\n",
    "with gzip.open('google_local/reviews.clean.json.gz') as f:\n",
    "    head = [next(f) for x in range(N)]\n",
    "    for l in head:\n",
    "        data_reviews.append(eval(l))"
   ]
  },
  {
   "cell_type": "code",
   "execution_count": 7,
   "metadata": {},
   "outputs": [
    {
     "data": {
      "text/plain": [
       "[{'rating': 3.0,\n",
       "  'reviewerName': 'an lam',\n",
       "  'reviewText': 'Chất lượng tạm ổn',\n",
       "  'categories': ['Giải Trí - Café'],\n",
       "  'gPlusPlaceId': '108103314380004200232',\n",
       "  'unixReviewTime': 1372686659,\n",
       "  'reviewTime': 'Jul 1, 2013',\n",
       "  'gPlusUserId': '100000010817154263736'}]"
      ]
     },
     "execution_count": 7,
     "metadata": {},
     "output_type": "execute_result"
    }
   ],
   "source": [
    "data_reviews[:1]"
   ]
  },
  {
   "cell_type": "code",
   "execution_count": 8,
   "metadata": {},
   "outputs": [],
   "source": [
    "df_data_reviews = pd.DataFrame.from_dict(data_reviews)"
   ]
  },
  {
   "cell_type": "code",
   "execution_count": 9,
   "metadata": {},
   "outputs": [
    {
     "data": {
      "text/html": [
       "<div>\n",
       "<style scoped>\n",
       "    .dataframe tbody tr th:only-of-type {\n",
       "        vertical-align: middle;\n",
       "    }\n",
       "\n",
       "    .dataframe tbody tr th {\n",
       "        vertical-align: top;\n",
       "    }\n",
       "\n",
       "    .dataframe thead th {\n",
       "        text-align: right;\n",
       "    }\n",
       "</style>\n",
       "<table border=\"1\" class=\"dataframe\">\n",
       "  <thead>\n",
       "    <tr style=\"text-align: right;\">\n",
       "      <th></th>\n",
       "      <th>rating</th>\n",
       "      <th>reviewerName</th>\n",
       "      <th>reviewText</th>\n",
       "      <th>categories</th>\n",
       "      <th>gPlusPlaceId</th>\n",
       "      <th>unixReviewTime</th>\n",
       "      <th>reviewTime</th>\n",
       "      <th>gPlusUserId</th>\n",
       "    </tr>\n",
       "  </thead>\n",
       "  <tbody>\n",
       "    <tr>\n",
       "      <th>0</th>\n",
       "      <td>3.0</td>\n",
       "      <td>an lam</td>\n",
       "      <td>Chất lượng tạm ổn</td>\n",
       "      <td>[Giải Trí - Café]</td>\n",
       "      <td>108103314380004200232</td>\n",
       "      <td>1.372687e+09</td>\n",
       "      <td>Jul 1, 2013</td>\n",
       "      <td>100000010817154263736</td>\n",
       "    </tr>\n",
       "    <tr>\n",
       "      <th>1</th>\n",
       "      <td>5.0</td>\n",
       "      <td>HALİL TURGUT</td>\n",
       "      <td>Wc si temiz duzenli..</td>\n",
       "      <td>[Turkish Cuisine]</td>\n",
       "      <td>102194128241608748649</td>\n",
       "      <td>1.342871e+09</td>\n",
       "      <td>Jul 21, 2012</td>\n",
       "      <td>100000013500285534661</td>\n",
       "    </tr>\n",
       "    <tr>\n",
       "      <th>2</th>\n",
       "      <td>5.0</td>\n",
       "      <td>森田さとこ</td>\n",
       "      <td>何回も私は予定に休みがセルバに行ったので覚えて見て、分かります❗</td>\n",
       "      <td>[Fishing, Pond Fish Supplier, Seafood Market]</td>\n",
       "      <td>101409858828175402384</td>\n",
       "      <td>1.390654e+09</td>\n",
       "      <td>Jan 25, 2014</td>\n",
       "      <td>100000021336848867366</td>\n",
       "    </tr>\n",
       "    <tr>\n",
       "      <th>3</th>\n",
       "      <td>5.0</td>\n",
       "      <td>森田さとこ</td>\n",
       "      <td>今度は予定に休みが登米市に行きたい❗☀😅🌌 楽しいに日帰りに登米の見学の観光(*^)(*^-...</td>\n",
       "      <td>[Museum]</td>\n",
       "      <td>101477177500158511502</td>\n",
       "      <td>1.389188e+09</td>\n",
       "      <td>Jan 8, 2014</td>\n",
       "      <td>100000021336848867366</td>\n",
       "    </tr>\n",
       "    <tr>\n",
       "      <th>4</th>\n",
       "      <td>4.0</td>\n",
       "      <td>森田さとこ</td>\n",
       "      <td>気仙沼警察署に移転中に絆 👮🐎☺🙋🚓頑張ろう❗</td>\n",
       "      <td>[Police]</td>\n",
       "      <td>106994170641063333085</td>\n",
       "      <td>1.390486e+09</td>\n",
       "      <td>Jan 23, 2014</td>\n",
       "      <td>100000021336848867366</td>\n",
       "    </tr>\n",
       "  </tbody>\n",
       "</table>\n",
       "</div>"
      ],
      "text/plain": [
       "   rating  reviewerName                                         reviewText  \\\n",
       "0     3.0        an lam                                  Chất lượng tạm ổn   \n",
       "1     5.0  HALİL TURGUT                              Wc si temiz duzenli..   \n",
       "2     5.0         森田さとこ                   何回も私は予定に休みがセルバに行ったので覚えて見て、分かります❗   \n",
       "3     5.0         森田さとこ  今度は予定に休みが登米市に行きたい❗☀😅🌌 楽しいに日帰りに登米の見学の観光(*^)(*^-...   \n",
       "4     4.0         森田さとこ                            気仙沼警察署に移転中に絆 👮🐎☺🙋🚓頑張ろう❗   \n",
       "\n",
       "                                      categories           gPlusPlaceId  \\\n",
       "0                              [Giải Trí - Café]  108103314380004200232   \n",
       "1                              [Turkish Cuisine]  102194128241608748649   \n",
       "2  [Fishing, Pond Fish Supplier, Seafood Market]  101409858828175402384   \n",
       "3                                       [Museum]  101477177500158511502   \n",
       "4                                       [Police]  106994170641063333085   \n",
       "\n",
       "   unixReviewTime    reviewTime            gPlusUserId  \n",
       "0    1.372687e+09   Jul 1, 2013  100000010817154263736  \n",
       "1    1.342871e+09  Jul 21, 2012  100000013500285534661  \n",
       "2    1.390654e+09  Jan 25, 2014  100000021336848867366  \n",
       "3    1.389188e+09   Jan 8, 2014  100000021336848867366  \n",
       "4    1.390486e+09  Jan 23, 2014  100000021336848867366  "
      ]
     },
     "execution_count": 9,
     "metadata": {},
     "output_type": "execute_result"
    }
   ],
   "source": [
    "df_data_reviews[:5]"
   ]
  },
  {
   "cell_type": "code",
   "execution_count": 10,
   "metadata": {},
   "outputs": [
    {
     "data": {
      "text/plain": [
       "4000000"
      ]
     },
     "execution_count": 10,
     "metadata": {},
     "output_type": "execute_result"
    }
   ],
   "source": [
    "len(df_data_reviews)"
   ]
  },
  {
   "cell_type": "code",
   "execution_count": 11,
   "metadata": {},
   "outputs": [],
   "source": [
    "df_reviews = df_data_reviews.dropna()"
   ]
  },
  {
   "cell_type": "code",
   "execution_count": 12,
   "metadata": {},
   "outputs": [
    {
     "data": {
      "text/plain": [
       "(2581631, rating                                                            1\n",
       " reviewerName                                     Abhijeet Dhamankar\n",
       " reviewText        The store manager is extremely rude and has th...\n",
       " categories            [Shipping and Mailing, Copy Shop, Print Shop]\n",
       " gPlusPlaceId                                  100220547269290934702\n",
       " unixReviewTime                                          1.38877e+09\n",
       " reviewTime                                              Jan 3, 2014\n",
       " gPlusUserId                                   106276733271811926636\n",
       " Name: 3930500, dtype: object)"
      ]
     },
     "execution_count": 12,
     "metadata": {},
     "output_type": "execute_result"
    }
   ],
   "source": [
    "len(df_reviews), df_reviews.iloc[2536747]"
   ]
  },
  {
   "cell_type": "code",
   "execution_count": 13,
   "metadata": {},
   "outputs": [],
   "source": [
    "#reviews_data = df_reviews.T.to_dict().values()"
   ]
  },
  {
   "cell_type": "markdown",
   "metadata": {},
   "source": [
    "### Function - Filtering out data based on GPS coordinates"
   ]
  },
  {
   "cell_type": "code",
   "execution_count": 14,
   "metadata": {},
   "outputs": [],
   "source": [
    "def places_filter(dataset, lat_l, lat_h, lon_l, lon_h):\n",
    "    reviews_us = []\n",
    "    for d in dataset:\n",
    "        if (d['gps'] != None and d['price'] != None and d['price'] != ''):\n",
    "            if ((d['gps'][0] >= lat_l) \\\n",
    "              & (d['gps'][0] <= lat_h) \\\n",
    "             & (d['gps'][1] >= lon_l) \\\n",
    "            & (d['gps'][1] <= lon_h)):\n",
    "                reviews_us.append(d)\n",
    "    return reviews_us "
   ]
  },
  {
   "cell_type": "code",
   "execution_count": 15,
   "metadata": {},
   "outputs": [],
   "source": [
    "places_ca = places_filter(data_places, 32.32, 42, -124.26,-114.8)"
   ]
  },
  {
   "cell_type": "code",
   "execution_count": 16,
   "metadata": {},
   "outputs": [
    {
     "data": {
      "text/plain": [
       "(48865, 4000000)"
      ]
     },
     "execution_count": 16,
     "metadata": {},
     "output_type": "execute_result"
    }
   ],
   "source": [
    "len(places_ca), len(data_reviews)"
   ]
  },
  {
   "cell_type": "code",
   "execution_count": 17,
   "metadata": {},
   "outputs": [],
   "source": [
    "### Function - Filter data based on "
   ]
  },
  {
   "cell_type": "code",
   "execution_count": 18,
   "metadata": {},
   "outputs": [],
   "source": [
    "def joined_data(places, reviews):\n",
    "    placeGPS = defaultdict(list)\n",
    "    placePrice = defaultdict(list)\n",
    "    joined_data = []\n",
    "\n",
    "    for d in places:\n",
    "        placeGPS[d['gPlusPlaceId']] = d['gps'] \n",
    "        placePrice[d['gPlusPlaceId']] = d['price']\n",
    "    #print(placeGPS)\n",
    "    # dataset is reviews data\n",
    "    for d in reviews:\n",
    "        \n",
    "        if d['gPlusPlaceId'] in placeGPS:\n",
    "            d['gps'] = placeGPS[d['gPlusPlaceId']]\n",
    "            d['price'] = placePrice[d['gPlusPlaceId']]\n",
    "            joined_data.append(d)\n",
    "    return (joined_data)"
   ]
  },
  {
   "cell_type": "code",
   "execution_count": 19,
   "metadata": {},
   "outputs": [],
   "source": [
    "data_ca = joined_data(places_ca, data_reviews)"
   ]
  },
  {
   "cell_type": "code",
   "execution_count": 20,
   "metadata": {},
   "outputs": [
    {
     "data": {
      "text/plain": [
       "125947"
      ]
     },
     "execution_count": 20,
     "metadata": {},
     "output_type": "execute_result"
    }
   ],
   "source": [
    "len(data_ca)"
   ]
  },
  {
   "cell_type": "code",
   "execution_count": 21,
   "metadata": {},
   "outputs": [
    {
     "data": {
      "text/plain": [
       "[{'rating': 4.0,\n",
       "  'reviewerName': 'william spindler',\n",
       "  'reviewText': 'Best War Wanton soup in Red Bluff',\n",
       "  'categories': ['Asian Restaurant', 'Chinese Restaurant'],\n",
       "  'gPlusPlaceId': '106591714648856494903',\n",
       "  'unixReviewTime': 1394669496,\n",
       "  'reviewTime': 'Mar 12, 2014',\n",
       "  'gPlusUserId': '100000032416892623125',\n",
       "  'gps': [40.179159, -122.236162],\n",
       "  'price': '$$$'}]"
      ]
     },
     "execution_count": 21,
     "metadata": {},
     "output_type": "execute_result"
    }
   ],
   "source": [
    "data_ca[:1]"
   ]
  },
  {
   "cell_type": "code",
   "execution_count": null,
   "metadata": {},
   "outputs": [],
   "source": []
  },
  {
   "cell_type": "code",
   "execution_count": 22,
   "metadata": {},
   "outputs": [],
   "source": [
    "data_ca_ = []\n",
    "for d in data_ca:\n",
    "    if (d['gps'] != None and d['gps'] != '' \\\n",
    "        and d['price'] != None and d['price'] != '' \\\n",
    "        and d['reviewText'] != None and d['reviewText'] != '' \\\n",
    "        and d['categories'] != None and d['categories'] != '' \\\n",
    "        and d['rating'] != None and d['rating'] != ''):\n",
    "        data_ca_.append(d)"
   ]
  },
  {
   "cell_type": "code",
   "execution_count": 23,
   "metadata": {},
   "outputs": [
    {
     "data": {
      "text/plain": [
       "76254"
      ]
     },
     "execution_count": 23,
     "metadata": {},
     "output_type": "execute_result"
    }
   ],
   "source": [
    "len(data_ca_)"
   ]
  },
  {
   "cell_type": "code",
   "execution_count": 24,
   "metadata": {},
   "outputs": [
    {
     "data": {
      "text/plain": [
       "0"
      ]
     },
     "execution_count": 24,
     "metadata": {},
     "output_type": "execute_result"
    }
   ],
   "source": [
    "sum(d['categories'] == None for d in data_ca_)\n",
    "#[d for d in data_ca if d['categories'] == None]"
   ]
  },
  {
   "cell_type": "code",
   "execution_count": 25,
   "metadata": {},
   "outputs": [
    {
     "data": {
      "text/plain": [
       "(847,)"
      ]
     },
     "execution_count": 25,
     "metadata": {},
     "output_type": "execute_result"
    }
   ],
   "source": [
    "categ_list = []\n",
    "placeCateg = defaultdict(list)\n",
    "count=0\n",
    "for d in data_ca_:\n",
    "    for l in d['categories']:\n",
    "            if l not in categ_list:\n",
    "                categ_list.append(l)\n",
    "\n",
    "len(categ_list), #categ_list"
   ]
  },
  {
   "cell_type": "code",
   "execution_count": 26,
   "metadata": {},
   "outputs": [
    {
     "data": {
      "text/plain": [
       "['Asian Restaurant', 'Chinese Restaurant']"
      ]
     },
     "execution_count": 26,
     "metadata": {},
     "output_type": "execute_result"
    }
   ],
   "source": [
    "categ_list[:2]"
   ]
  },
  {
   "cell_type": "code",
   "execution_count": 27,
   "metadata": {},
   "outputs": [],
   "source": [
    "perCategReviews = defaultdict(int)\n",
    "for c in categ_list:\n",
    "    for d in data_ca_:    \n",
    "        if d['categories'] != None:\n",
    "            if c in d['categories']:\n",
    "                perCategReviews[c]+=1"
   ]
  },
  {
   "cell_type": "code",
   "execution_count": 28,
   "metadata": {},
   "outputs": [
    {
     "data": {
      "text/plain": [
       "[(12108, 'American Restaurant'),\n",
       " (10423, 'Asian Restaurant'),\n",
       " (7837, 'European Restaurant'),\n",
       " (7370, 'Restaurant'),\n",
       " (7291, 'Fast Food Restaurant'),\n",
       " (6923, 'Mexican Restaurant'),\n",
       " (6484, 'Latin American Restaurant'),\n",
       " (6387, 'Italian Restaurant'),\n",
       " (5223, 'Pizza Restaurant'),\n",
       " (4795, 'Hamburger Restaurant')]"
      ]
     },
     "execution_count": 28,
     "metadata": {},
     "output_type": "execute_result"
    }
   ],
   "source": [
    "top_categ = []\n",
    "for d in perCategReviews:\n",
    "    item = (perCategReviews[d], d)\n",
    "    top_categ.append(item)\n",
    "    \n",
    "sorted(top_categ, reverse=True)[:10]"
   ]
  },
  {
   "cell_type": "code",
   "execution_count": 29,
   "metadata": {},
   "outputs": [],
   "source": [
    "df_ca = pd.DataFrame.from_dict(data_ca_)"
   ]
  },
  {
   "cell_type": "code",
   "execution_count": 30,
   "metadata": {},
   "outputs": [
    {
     "data": {
      "text/html": [
       "<div>\n",
       "<style scoped>\n",
       "    .dataframe tbody tr th:only-of-type {\n",
       "        vertical-align: middle;\n",
       "    }\n",
       "\n",
       "    .dataframe tbody tr th {\n",
       "        vertical-align: top;\n",
       "    }\n",
       "\n",
       "    .dataframe thead th {\n",
       "        text-align: right;\n",
       "    }\n",
       "</style>\n",
       "<table border=\"1\" class=\"dataframe\">\n",
       "  <thead>\n",
       "    <tr style=\"text-align: right;\">\n",
       "      <th></th>\n",
       "      <th>rating</th>\n",
       "      <th>reviewerName</th>\n",
       "      <th>reviewText</th>\n",
       "      <th>categories</th>\n",
       "      <th>gPlusPlaceId</th>\n",
       "      <th>unixReviewTime</th>\n",
       "      <th>reviewTime</th>\n",
       "      <th>gPlusUserId</th>\n",
       "      <th>gps</th>\n",
       "      <th>price</th>\n",
       "    </tr>\n",
       "  </thead>\n",
       "  <tbody>\n",
       "    <tr>\n",
       "      <th>0</th>\n",
       "      <td>4.0</td>\n",
       "      <td>william spindler</td>\n",
       "      <td>Best War Wanton soup in Red Bluff</td>\n",
       "      <td>[Asian Restaurant, Chinese Restaurant]</td>\n",
       "      <td>106591714648856494903</td>\n",
       "      <td>1394669496</td>\n",
       "      <td>Mar 12, 2014</td>\n",
       "      <td>100000032416892623125</td>\n",
       "      <td>[40.179159, -122.236162]</td>\n",
       "      <td>$$$</td>\n",
       "    </tr>\n",
       "    <tr>\n",
       "      <th>1</th>\n",
       "      <td>5.0</td>\n",
       "      <td>william spindler</td>\n",
       "      <td>This is a review that is long overdo. I've bee...</td>\n",
       "      <td>[European Restaurant, Italian Restaurant, Pizz...</td>\n",
       "      <td>109420033090810328045</td>\n",
       "      <td>1394826388</td>\n",
       "      <td>Mar 14, 2014</td>\n",
       "      <td>100000032416892623125</td>\n",
       "      <td>[40.178074, -122.235234]</td>\n",
       "      <td>$$</td>\n",
       "    </tr>\n",
       "    <tr>\n",
       "      <th>2</th>\n",
       "      <td>5.0</td>\n",
       "      <td>william spindler</td>\n",
       "      <td>Long time favorite Mexican food, always consis...</td>\n",
       "      <td>[Mexican Restaurant]</td>\n",
       "      <td>115827996910815192564</td>\n",
       "      <td>1394669713</td>\n",
       "      <td>Mar 12, 2014</td>\n",
       "      <td>100000032416892623125</td>\n",
       "      <td>[40.175064, -122.242574]</td>\n",
       "      <td>$$</td>\n",
       "    </tr>\n",
       "    <tr>\n",
       "      <th>3</th>\n",
       "      <td>5.0</td>\n",
       "      <td>Anne Mason</td>\n",
       "      <td>Great coffee and location! Check out the used ...</td>\n",
       "      <td>[Espresso Bar, Coffee Shop]</td>\n",
       "      <td>108196901293702895067</td>\n",
       "      <td>1379187049</td>\n",
       "      <td>Sep 14, 2013</td>\n",
       "      <td>100000106576186066497</td>\n",
       "      <td>[38.030536, -121.884024]</td>\n",
       "      <td>$$$</td>\n",
       "    </tr>\n",
       "    <tr>\n",
       "      <th>4</th>\n",
       "      <td>5.0</td>\n",
       "      <td>Anne Mason</td>\n",
       "      <td>I've been here dozens of times, and I'll keep ...</td>\n",
       "      <td>[Sushi Restaurant, Asian Restaurant, Japanese ...</td>\n",
       "      <td>111971088396054239194</td>\n",
       "      <td>1394848761</td>\n",
       "      <td>Mar 14, 2014</td>\n",
       "      <td>100000106576186066497</td>\n",
       "      <td>[37.961078, -121.748886]</td>\n",
       "      <td>$$</td>\n",
       "    </tr>\n",
       "  </tbody>\n",
       "</table>\n",
       "</div>"
      ],
      "text/plain": [
       "   rating      reviewerName  \\\n",
       "0     4.0  william spindler   \n",
       "1     5.0  william spindler   \n",
       "2     5.0  william spindler   \n",
       "3     5.0        Anne Mason   \n",
       "4     5.0        Anne Mason   \n",
       "\n",
       "                                          reviewText  \\\n",
       "0                  Best War Wanton soup in Red Bluff   \n",
       "1  This is a review that is long overdo. I've bee...   \n",
       "2  Long time favorite Mexican food, always consis...   \n",
       "3  Great coffee and location! Check out the used ...   \n",
       "4  I've been here dozens of times, and I'll keep ...   \n",
       "\n",
       "                                          categories           gPlusPlaceId  \\\n",
       "0             [Asian Restaurant, Chinese Restaurant]  106591714648856494903   \n",
       "1  [European Restaurant, Italian Restaurant, Pizz...  109420033090810328045   \n",
       "2                               [Mexican Restaurant]  115827996910815192564   \n",
       "3                        [Espresso Bar, Coffee Shop]  108196901293702895067   \n",
       "4  [Sushi Restaurant, Asian Restaurant, Japanese ...  111971088396054239194   \n",
       "\n",
       "   unixReviewTime    reviewTime            gPlusUserId  \\\n",
       "0      1394669496  Mar 12, 2014  100000032416892623125   \n",
       "1      1394826388  Mar 14, 2014  100000032416892623125   \n",
       "2      1394669713  Mar 12, 2014  100000032416892623125   \n",
       "3      1379187049  Sep 14, 2013  100000106576186066497   \n",
       "4      1394848761  Mar 14, 2014  100000106576186066497   \n",
       "\n",
       "                        gps price  \n",
       "0  [40.179159, -122.236162]   $$$  \n",
       "1  [40.178074, -122.235234]    $$  \n",
       "2  [40.175064, -122.242574]    $$  \n",
       "3  [38.030536, -121.884024]   $$$  \n",
       "4  [37.961078, -121.748886]    $$  "
      ]
     },
     "execution_count": 30,
     "metadata": {},
     "output_type": "execute_result"
    }
   ],
   "source": [
    "df_ca[:5]"
   ]
  },
  {
   "cell_type": "code",
   "execution_count": 31,
   "metadata": {},
   "outputs": [
    {
     "data": {
      "text/plain": [
       "(76254,)"
      ]
     },
     "execution_count": 31,
     "metadata": {},
     "output_type": "execute_result"
    }
   ],
   "source": [
    "df_ca['unixReviewTime'].shape"
   ]
  },
  {
   "cell_type": "code",
   "execution_count": 32,
   "metadata": {},
   "outputs": [],
   "source": [
    "df_ca['dtime'] = pd.to_datetime(df_ca['unixReviewTime'],unit='s')\n",
    "#df_ca['dt'] = datetime(df_ca['unixReview'])\n",
    "df_ca['hour'] = df_ca.dtime.dt.hour\n",
    "df_ca['minute'] = df_ca.dtime.dt.minute\n",
    "df_ca['second'] = df_ca.dtime.dt.second"
   ]
  },
  {
   "cell_type": "code",
   "execution_count": 33,
   "metadata": {},
   "outputs": [
    {
     "data": {
      "image/png": "[encoded data removed]",
      "text/plain": [
       "<Figure size 432x288 with 1 Axes>"
      ]
     },
     "metadata": {
      "needs_background": "light"
     },
     "output_type": "display_data"
    }
   ],
   "source": [
    "plt.hist(df_ca['hour'], bins = 30)\n",
    "plt.show()"
   ]
  },
  {
   "cell_type": "code",
   "execution_count": 34,
   "metadata": {},
   "outputs": [],
   "source": [
    "review_count =  pd.DataFrame(df_ca['hour'].value_counts())\n",
    "review_count['hr'] = review_count.index\n",
    "review_count.reset_index\n",
    "review_count = review_count.rename(columns={\"hour\": \"num_reviews\"}).sort_values(by=['hr'])\n",
    "#review_count"
   ]
  },
  {
   "cell_type": "code",
   "execution_count": 35,
   "metadata": {},
   "outputs": [
    {
     "data": {
      "image/png": "[encoded data removed]",
      "text/plain": [
       "<Figure size 432x288 with 1 Axes>"
      ]
     },
     "metadata": {
      "needs_background": "light"
     },
     "output_type": "display_data"
    }
   ],
   "source": [
    "plt.plot((review_count['hr']), review_count['num_reviews'], color = 'black') \n",
    "plt.xlabel('hour')\n",
    "plt.ylabel('Num of reviews')\n",
    "#plt.legend()\n",
    "plt.show()"
   ]
  },
  {
   "cell_type": "markdown",
   "metadata": {},
   "source": [
    "#### Write to csv df_ca"
   ]
  },
  {
   "cell_type": "code",
   "execution_count": 36,
   "metadata": {},
   "outputs": [],
   "source": [
    "df_ca.to_csv('df_ca.csv', index=True)"
   ]
  },
  {
   "cell_type": "markdown",
   "metadata": {},
   "source": [
    "### Text Analysis"
   ]
  },
  {
   "cell_type": "code",
   "execution_count": 37,
   "metadata": {},
   "outputs": [
    {
     "data": {
      "text/plain": [
       "False"
      ]
     },
     "execution_count": 37,
     "metadata": {},
     "output_type": "execute_result"
    }
   ],
   "source": [
    "df_ca.isnull().values.any()"
   ]
  },
  {
   "cell_type": "code",
   "execution_count": 38,
   "metadata": {},
   "outputs": [
    {
     "data": {
      "text/plain": [
       "False"
      ]
     },
     "execution_count": 38,
     "metadata": {},
     "output_type": "execute_result"
    }
   ],
   "source": [
    "df_ca['reviewText'].isnull().values.any()"
   ]
  },
  {
   "cell_type": "code",
   "execution_count": 39,
   "metadata": {},
   "outputs": [],
   "source": [
    "wordCount = defaultdict(int)\n",
    "totalWords = 0\n",
    "punct = string.punctuation\n",
    "stemmer = PorterStemmer()"
   ]
  },
  {
   "cell_type": "code",
   "execution_count": 40,
   "metadata": {},
   "outputs": [],
   "source": [
    "sw = stopwords.words('english')"
   ]
  },
  {
   "cell_type": "code",
   "execution_count": 41,
   "metadata": {},
   "outputs": [],
   "source": [
    "for d in data_ca_:\n",
    "    \n",
    "    t = d['reviewText']\n",
    "    t = t.lower() # lowercase string\n",
    "    t = [c for c in t if not (c in punct)] # non-punct characters\n",
    "    t = ''.join(t) # convert back to string\n",
    "    words = t.strip().split() # tokenizes\n",
    "    for w in words:\n",
    "        if w not in sw:\n",
    "            #w = stemmer.stem(w)\n",
    "            #print(w)\n",
    "            totalWords += 1\n",
    "            wordCount[w] += 1"
   ]
  },
  {
   "cell_type": "code",
   "execution_count": 42,
   "metadata": {},
   "outputs": [
    {
     "data": {
      "text/plain": [
       "1623179"
      ]
     },
     "execution_count": 42,
     "metadata": {},
     "output_type": "execute_result"
    }
   ],
   "source": [
    "totalWords"
   ]
  },
  {
   "cell_type": "code",
   "execution_count": 43,
   "metadata": {},
   "outputs": [
    {
     "data": {
      "text/plain": [
       "60413"
      ]
     },
     "execution_count": 43,
     "metadata": {},
     "output_type": "execute_result"
    }
   ],
   "source": [
    "len(wordCount)"
   ]
  },
  {
   "cell_type": "code",
   "execution_count": 44,
   "metadata": {},
   "outputs": [],
   "source": [
    "words = [(wordCount[w],w) for w in wordCount]"
   ]
  },
  {
   "cell_type": "code",
   "execution_count": 45,
   "metadata": {},
   "outputs": [],
   "source": [
    "words.sort()\n",
    "words.reverse()"
   ]
  },
  {
   "cell_type": "code",
   "execution_count": 46,
   "metadata": {
    "scrolled": true
   },
   "outputs": [],
   "source": [
    "word_feat = [w[1] for w in words[:2000]]"
   ]
  },
  {
   "cell_type": "code",
   "execution_count": 47,
   "metadata": {},
   "outputs": [],
   "source": [
    "wordId = dict(zip(word_feat, range(len(word_feat))))\n",
    "wordSet = set(word_feat)"
   ]
  },
  {
   "cell_type": "code",
   "execution_count": 48,
   "metadata": {},
   "outputs": [
    {
     "data": {
      "text/plain": [
       "26"
      ]
     },
     "execution_count": 48,
     "metadata": {},
     "output_type": "execute_result"
    }
   ],
   "source": [
    "wordId['also']"
   ]
  },
  {
   "cell_type": "markdown",
   "metadata": {},
   "source": [
    "### Data split"
   ]
  },
  {
   "cell_type": "code",
   "execution_count": 49,
   "metadata": {},
   "outputs": [
    {
     "data": {
      "text/plain": [
       "(61003, 7625, 7626)"
      ]
     },
     "execution_count": 49,
     "metadata": {},
     "output_type": "execute_result"
    }
   ],
   "source": [
    "#random.shuffle(data_ca_)\n",
    "tr_len = round(0.8*len(data_ca_))\n",
    "va_len = round(0.1*len(data_ca_))\n",
    "te_len = round(0.1*len(data_ca_))\n",
    "\n",
    "tr_01 = data_ca_[0:tr_len]\n",
    "va_01 = data_ca_[tr_len:tr_len + va_len]\n",
    "te_01 = data_ca_[tr_len+va_len:]\n",
    "\n",
    "len(tr_01), len(va_01), len(te_01)"
   ]
  },
  {
   "cell_type": "markdown",
   "metadata": {},
   "source": [
    "### Training Regressor 01"
   ]
  },
  {
   "cell_type": "code",
   "execution_count": 50,
   "metadata": {},
   "outputs": [],
   "source": [
    "def feature(datum):\n",
    "    feat = [0]*len(wordSet)\n",
    "    t = datum['reviewText']\n",
    "    t = t.lower() # lowercase string\n",
    "    t = [c for c in t if not (c in punct)] # non-punct characters\n",
    "    t = ''.join(t) # convert back to string\n",
    "    words = t.strip().split() # tokenizes\n",
    "    for w in words:\n",
    "        if not (w in wordSet): continue\n",
    "        feat[wordId[w]] += 1\n",
    "    feat.append(1)\n",
    "    return feat"
   ]
  },
  {
   "cell_type": "code",
   "execution_count": 51,
   "metadata": {},
   "outputs": [
    {
     "data": {
      "text/plain": [
       "(61003, 61003)"
      ]
     },
     "execution_count": 51,
     "metadata": {},
     "output_type": "execute_result"
    }
   ],
   "source": [
    "X = [feature(d) for d in tr_01]\n",
    "y = [d['rating'] for d in tr_01]\n",
    "len(X), len(y)"
   ]
  },
  {
   "cell_type": "code",
   "execution_count": 52,
   "metadata": {},
   "outputs": [],
   "source": [
    "clf = linear_model.Ridge(1.0, fit_intercept=False) # MSE + 1.0 l2\n",
    "clf.fit(X, y)\n",
    "theta = clf.coef_\n",
    "pred = clf.predict(X)"
   ]
  },
  {
   "cell_type": "markdown",
   "metadata": {},
   "source": [
    "#### Function - MSE"
   ]
  },
  {
   "cell_type": "code",
   "execution_count": 53,
   "metadata": {},
   "outputs": [],
   "source": [
    "def MSE(predictions, labels):\n",
    "    differences = [(x-y)**2 for x,y in zip(predictions,labels)]\n",
    "    return sum(differences) / len(differences)"
   ]
  },
  {
   "cell_type": "code",
   "execution_count": 54,
   "metadata": {},
   "outputs": [
    {
     "data": {
      "text/plain": [
       "array([4.26462951, 4.43617136, 4.49988074, 3.84048333, 3.78726344])"
      ]
     },
     "execution_count": 54,
     "metadata": {},
     "output_type": "execute_result"
    }
   ],
   "source": [
    "pred[:5]"
   ]
  },
  {
   "cell_type": "code",
   "execution_count": 55,
   "metadata": {},
   "outputs": [
    {
     "data": {
      "text/plain": [
       "(0.7998458304860848, 0.8904528894048964, 0.8487307660280751)"
      ]
     },
     "execution_count": 55,
     "metadata": {},
     "output_type": "execute_result"
    }
   ],
   "source": [
    "X_va_01 = [feature(d) for d in va_01]\n",
    "y_va_01 = [d['rating'] for d in va_01]\n",
    "\n",
    "X_te_01 = [feature(d) for d in te_01]\n",
    "y_te_01 = [d['rating'] for d in te_01]\n",
    "\n",
    "pred_va_01 = clf.predict(X_va_01)\n",
    "pred_te_01 = clf.predict(X_te_01)\n",
    "\n",
    "MSE(pred, y), MSE(pred_va_01, y_va_01), MSE(pred_te_01, y_te_01)"
   ]
  },
  {
   "cell_type": "code",
   "execution_count": 56,
   "metadata": {},
   "outputs": [],
   "source": [
    "#words[9000:20000]"
   ]
  },
  {
   "cell_type": "code",
   "execution_count": 63,
   "metadata": {},
   "outputs": [
    {
     "data": {
      "text/plain": [
       "[1000, 1500, 2000, 2500, 3000]"
      ]
     },
     "execution_count": 63,
     "metadata": {},
     "output_type": "execute_result"
    }
   ],
   "source": [
    "top_words_len = [(x+500) for x in range(500,3000,500)]\n",
    "top_words_len"
   ]
  },
  {
   "cell_type": "code",
   "execution_count": 66,
   "metadata": {},
   "outputs": [
    {
     "name": "stdout",
     "output_type": "stream",
     "text": [
      "1000\n",
      "1500\n",
      "2000\n",
      "2500\n",
      "3000\n"
     ]
    }
   ],
   "source": [
    "#top_words_len = [(x+.5)*1000 for x in range(2)]\n",
    "mse_by_top_words = []\n",
    "for l in top_words_len:\n",
    "    \n",
    "    word_feat = [w[1] for w in words[:l]]\n",
    "    wordId = dict(zip(word_feat, range(len(word_feat))))\n",
    "    wordSet = set(word_feat)\n",
    "    \n",
    "    X = [feature(d) for d in tr_01]\n",
    "    #y = [d['rating'] for d in tr_01]\n",
    "    \n",
    "    clf = linear_model.Ridge(1.0, fit_intercept=False) # MSE + 1.0 l2\n",
    "    clf.fit(X, y)\n",
    "    theta = clf.coef_\n",
    "    pred = clf.predict(X)\n",
    "    \n",
    "    X_va_01 = [feature(d) for d in va_01]\n",
    "    #y_va_01 = [d['rating'] for d in va_01]\n",
    "\n",
    "    X_te_01 = [feature(d) for d in te_01]\n",
    "    #y_te_01 = [d['rating'] for d in te_01]\n",
    "    \n",
    "    pred_va_01 = clf.predict(X_va_01)\n",
    "    pred_te_01 = clf.predict(X_te_01)\n",
    "    \n",
    "    print(l)\n",
    "\n",
    "    mse_by_top_words.append((MSE(pred, y), MSE(pred_va_01, y_va_01), MSE(pred_te_01, y_te_01)))"
   ]
  },
  {
   "cell_type": "code",
   "execution_count": 67,
   "metadata": {},
   "outputs": [
    {
     "data": {
      "text/plain": [
       "[(0.8449665591826176, 0.8889033711275022, 0.8539993216648604),\n",
       " (0.8216157681967183, 0.8881152929238086, 0.8506935344770881),\n",
       " (0.7998458304860848, 0.8904528894048964, 0.8487307660280751),\n",
       " (0.7848065529664382, 0.9032840510192416, 0.8536497256862275),\n",
       " (0.7712448592171647, 0.9158397883089372, 0.8581608939461068)]"
      ]
     },
     "execution_count": 67,
     "metadata": {},
     "output_type": "execute_result"
    }
   ],
   "source": [
    "mse_by_top_words"
   ]
  },
  {
   "cell_type": "markdown",
   "metadata": {},
   "source": [
    "**Insight**\n",
    "\n",
    "As the number of popular words increases to build the feature vector, the training error increases. We have minimum validation MSE at N = 1500. This can further be optimized by adding each popular word by step size = 1."
   ]
  }
 ],
 "metadata": {
  "kernelspec": {
   "display_name": "Python 3",
   "language": "python",
   "name": "python3"
  },
  "language_info": {
   "codemirror_mode": {
    "name": "ipython",
    "version": 3
   },
   "file_extension": ".py",
   "mimetype": "text/x-python",
   "name": "python",
   "nbconvert_exporter": "python",
   "pygments_lexer": "ipython3",
   "version": "3.6.9"
  }
 },
 "nbformat": 4,
 "nbformat_minor": 4
}
